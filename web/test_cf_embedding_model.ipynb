{
 "cells": [
  {
   "cell_type": "markdown",
   "id": "aa0ec5a8-e2a6-4770-aa41-a295ad86cdd0",
   "metadata": {},
   "source": [
    "# Check recommendation model"
   ]
  },
  {
   "cell_type": "code",
   "execution_count": 7,
   "id": "a1afa028-855d-43fc-b750-aa8dda21ab42",
   "metadata": {},
   "outputs": [],
   "source": [
    "from website.embedding_model import RecommenderModel, Model, InitializedModel\n",
    "from tensorflow import keras\n",
    "import tensorflow as tf\n",
    "import joblib\n",
    "import numpy as np\n",
    "import pandas as pd"
   ]
  },
  {
   "cell_type": "code",
   "execution_count": 8,
   "id": "320878eb-adee-401b-9268-fa7409af7e41",
   "metadata": {},
   "outputs": [
    {
     "name": "stdout",
     "output_type": "stream",
     "text": [
      "\n",
      "[INFO] Calling model to load layers...\n",
      "\n",
      "\n",
      "[INFO] Loaded weights.\n",
      "\n",
      "\n",
      "[INFO] Model instance is initialized!\n",
      "\n",
      "Wall time: 379 ms\n"
     ]
    }
   ],
   "source": [
    "%%time\n",
    "init_model = InitializedModel()"
   ]
  },
  {
   "cell_type": "code",
   "execution_count": 13,
   "id": "210a6181-26c5-4b81-a588-cd0b75a89642",
   "metadata": {
    "tags": []
   },
   "outputs": [
    {
     "name": "stdout",
     "output_type": "stream",
     "text": [
      "Recommending animes for Black Clover\n",
      "Wall time: 31 ms\n"
     ]
    },
    {
     "data": {
      "text/html": [
       "<div>\n",
       "<style scoped>\n",
       "    .dataframe tbody tr th:only-of-type {\n",
       "        vertical-align: middle;\n",
       "    }\n",
       "\n",
       "    .dataframe tbody tr th {\n",
       "        vertical-align: top;\n",
       "    }\n",
       "\n",
       "    .dataframe thead th {\n",
       "        text-align: right;\n",
       "    }\n",
       "</style>\n",
       "<table border=\"1\" class=\"dataframe\">\n",
       "  <thead>\n",
       "    <tr style=\"text-align: right;\">\n",
       "      <th></th>\n",
       "      <th>MAL_ID</th>\n",
       "      <th>Name</th>\n",
       "      <th>img_url</th>\n",
       "      <th>Score</th>\n",
       "      <th>new_synopsis</th>\n",
       "      <th>Genres</th>\n",
       "    </tr>\n",
       "  </thead>\n",
       "  <tbody>\n",
       "    <tr>\n",
       "      <th>0</th>\n",
       "      <td>34566</td>\n",
       "      <td>Boruto: Naruto Next Generations</td>\n",
       "      <td>https://cdn.myanimelist.net/images/anime/9/844...</td>\n",
       "      <td>5.81</td>\n",
       "      <td>Following the successful end of the Fourth Shi...</td>\n",
       "      <td>Action, Adventure, Super Power, Martial Arts, ...</td>\n",
       "    </tr>\n",
       "    <tr>\n",
       "      <th>1</th>\n",
       "      <td>37885</td>\n",
       "      <td>Super Dragon Ball Heroes</td>\n",
       "      <td>https://cdn.myanimelist.net/images/anime/1480/...</td>\n",
       "      <td>5.29</td>\n",
       "      <td>In May 2018, V-Jump announced a promotional an...</td>\n",
       "      <td>Action, Comedy, Super Power, Martial Arts, Fan...</td>\n",
       "    </tr>\n",
       "    <tr>\n",
       "      <th>2</th>\n",
       "      <td>40748</td>\n",
       "      <td>Jujutsu Kaisen (TV)</td>\n",
       "      <td>https://cdn.myanimelist.net/images/anime/1171/...</td>\n",
       "      <td>8.54</td>\n",
       "      <td>Idly indulging in baseless paranormal activiti...</td>\n",
       "      <td>Action, Demons, Supernatural, School, Shounen</td>\n",
       "    </tr>\n",
       "    <tr>\n",
       "      <th>3</th>\n",
       "      <td>36516</td>\n",
       "      <td>Beatless</td>\n",
       "      <td>https://cdn.myanimelist.net/images/anime/1986/...</td>\n",
       "      <td>6.20</td>\n",
       "      <td>With great advancements in technology, mankind...</td>\n",
       "      <td>Action, Drama, Romance, Sci-Fi</td>\n",
       "    </tr>\n",
       "    <tr>\n",
       "      <th>4</th>\n",
       "      <td>21</td>\n",
       "      <td>One Piece</td>\n",
       "      <td>https://cdn.myanimelist.net/images/anime/6/732...</td>\n",
       "      <td>8.52</td>\n",
       "      <td>Gol D. Roger was known as the \"Pirate King,\" t...</td>\n",
       "      <td>Action, Adventure, Comedy, Super Power, Drama,...</td>\n",
       "    </tr>\n",
       "  </tbody>\n",
       "</table>\n",
       "</div>"
      ],
      "text/plain": [
       "   MAL_ID                             Name  \\\n",
       "0   34566  Boruto: Naruto Next Generations   \n",
       "1   37885         Super Dragon Ball Heroes   \n",
       "2   40748              Jujutsu Kaisen (TV)   \n",
       "3   36516                         Beatless   \n",
       "4      21                        One Piece   \n",
       "\n",
       "                                             img_url  Score  \\\n",
       "0  https://cdn.myanimelist.net/images/anime/9/844...   5.81   \n",
       "1  https://cdn.myanimelist.net/images/anime/1480/...   5.29   \n",
       "2  https://cdn.myanimelist.net/images/anime/1171/...   8.54   \n",
       "3  https://cdn.myanimelist.net/images/anime/1986/...   6.20   \n",
       "4  https://cdn.myanimelist.net/images/anime/6/732...   8.52   \n",
       "\n",
       "                                        new_synopsis  \\\n",
       "0  Following the successful end of the Fourth Shi...   \n",
       "1  In May 2018, V-Jump announced a promotional an...   \n",
       "2  Idly indulging in baseless paranormal activiti...   \n",
       "3  With great advancements in technology, mankind...   \n",
       "4  Gol D. Roger was known as the \"Pirate King,\" t...   \n",
       "\n",
       "                                              Genres  \n",
       "0  Action, Adventure, Super Power, Martial Arts, ...  \n",
       "1  Action, Comedy, Super Power, Martial Arts, Fan...  \n",
       "2      Action, Demons, Supernatural, School, Shounen  \n",
       "3                     Action, Drama, Romance, Sci-Fi  \n",
       "4  Action, Adventure, Comedy, Super Power, Drama,...  "
      ]
     },
     "execution_count": 13,
     "metadata": {},
     "output_type": "execute_result"
    }
   ],
   "source": [
    "%%time\n",
    "anime_row, rec_df = init_model.get_recommendation(34572)\n",
    "rec_df.head()"
   ]
  },
  {
   "cell_type": "markdown",
   "id": "340aabd7-b7ca-4150-b5af-e5a5261ed37f",
   "metadata": {},
   "source": [
    "# Understanding the weights of embeddings"
   ]
  },
  {
   "cell_type": "code",
   "execution_count": 20,
   "id": "f7df83a8-8ea9-4ee8-9db0-8bc73b48cea3",
   "metadata": {},
   "outputs": [],
   "source": [
    "ENCODERS_DICT = joblib.load('assets/encoder_dicts.joblib')\n",
    "anime_id_to_idx = ENCODERS_DICT['anime_id_to_idx']\n",
    "anime_idx_to_id = ENCODERS_DICT['anime_idx_to_id']\n",
    "user_id_to_idx = ENCODERS_DICT['user_id_to_idx']"
   ]
  },
  {
   "cell_type": "code",
   "execution_count": 48,
   "id": "e5b3c848-42dd-4e59-b8ca-69a835da1789",
   "metadata": {
    "tags": []
   },
   "outputs": [
    {
     "data": {
      "text/html": [
       "<div>\n",
       "<style scoped>\n",
       "    .dataframe tbody tr th:only-of-type {\n",
       "        vertical-align: middle;\n",
       "    }\n",
       "\n",
       "    .dataframe tbody tr th {\n",
       "        vertical-align: top;\n",
       "    }\n",
       "\n",
       "    .dataframe thead th {\n",
       "        text-align: right;\n",
       "    }\n",
       "</style>\n",
       "<table border=\"1\" class=\"dataframe\">\n",
       "  <thead>\n",
       "    <tr style=\"text-align: right;\">\n",
       "      <th></th>\n",
       "      <th>MAL_ID</th>\n",
       "      <th>Name</th>\n",
       "      <th>English name</th>\n",
       "      <th>Score</th>\n",
       "      <th>Genres</th>\n",
       "      <th>Type</th>\n",
       "      <th>Episodes</th>\n",
       "      <th>Aired</th>\n",
       "      <th>Popularity</th>\n",
       "      <th>new_synopsis</th>\n",
       "      <th>img_url</th>\n",
       "    </tr>\n",
       "  </thead>\n",
       "  <tbody>\n",
       "    <tr>\n",
       "      <th>0</th>\n",
       "      <td>20707</td>\n",
       "      <td>\"0\"</td>\n",
       "      <td>Unknown</td>\n",
       "      <td>4.71</td>\n",
       "      <td>Music</td>\n",
       "      <td>Music</td>\n",
       "      <td>1</td>\n",
       "      <td>Oct 23, 2013</td>\n",
       "      <td>7736</td>\n",
       "      <td>This music video tells how a shy girl with a secret love and curiosity about what surrounds her works.</td>\n",
       "      <td>https://cdn.myanimelist.net/images/anime/6/54815.jpg</td>\n",
       "    </tr>\n",
       "    <tr>\n",
       "      <th>1</th>\n",
       "      <td>25627</td>\n",
       "      <td>\"Aesop\" no Ohanashi yori: Ushi to Kaeru, Yokubatta Inu</td>\n",
       "      <td>Unknown</td>\n",
       "      <td>NaN</td>\n",
       "      <td>Kids</td>\n",
       "      <td>Movie</td>\n",
       "      <td>1</td>\n",
       "      <td>Mar 21, 1970</td>\n",
       "      <td>13082</td>\n",
       "      <td>Based on Aesop's Fables.</td>\n",
       "      <td>https://cdn.myanimelist.net/images/anime/3/65151.jpg</td>\n",
       "    </tr>\n",
       "    <tr>\n",
       "      <th>2</th>\n",
       "      <td>7669</td>\n",
       "      <td>\"Bungaku Shoujo\" Kyou no Oyatsu: Hatsukoi</td>\n",
       "      <td>Unknown</td>\n",
       "      <td>6.91</td>\n",
       "      <td>Comedy, Fantasy, School</td>\n",
       "      <td>OVA</td>\n",
       "      <td>1</td>\n",
       "      <td>Dec 26, 2009</td>\n",
       "      <td>3876</td>\n",
       "      <td>Short episode bundled with the limited edition release of \"Bungaku Shoujo\" Minarai no, Shoushin .</td>\n",
       "      <td>https://cdn.myanimelist.net/images/anime/2/79900.jpg</td>\n",
       "    </tr>\n",
       "    <tr>\n",
       "      <th>3</th>\n",
       "      <td>8481</td>\n",
       "      <td>\"Bungaku Shoujo\" Memoire</td>\n",
       "      <td>Unknown</td>\n",
       "      <td>7.34</td>\n",
       "      <td>Drama, Romance, School</td>\n",
       "      <td>OVA</td>\n",
       "      <td>3</td>\n",
       "      <td>Jun 25, 2010 to Dec 24, 2010</td>\n",
       "      <td>3259</td>\n",
       "      <td>Episodes which depict the background stories of \"Bungaku Shoujo\" Movie 's main heroines.</td>\n",
       "      <td>https://cdn.myanimelist.net/images/anime/6/26770.jpg</td>\n",
       "    </tr>\n",
       "    <tr>\n",
       "      <th>4</th>\n",
       "      <td>6408</td>\n",
       "      <td>\"Bungaku Shoujo\" Movie</td>\n",
       "      <td>Unknown</td>\n",
       "      <td>7.41</td>\n",
       "      <td>Mystery, Drama, Romance, School</td>\n",
       "      <td>Movie</td>\n",
       "      <td>1</td>\n",
       "      <td>May 1, 2010</td>\n",
       "      <td>2049</td>\n",
       "      <td>The protagonist of the story, Konoha Inoue, is a seemingly normal senior high 2nd year student. His high school life, other than a hinted incident 2 years ago, can be summed up as normal- if one can dismiss the secret fact that he used to be a female bestselling romance author. Due to that incident, however, he has now vowed never to write again. This continued on until he was forced to join the literary club by the literary club president, the 3rd year female student Amano Tooko, a beautiful girl who has a taste for eating literary works. Now he has been tasked with writing her snack every day after school. (Source: To Say Nothing of the Dog)</td>\n",
       "      <td>https://cdn.myanimelist.net/images/anime/8/81162.jpg</td>\n",
       "    </tr>\n",
       "  </tbody>\n",
       "</table>\n",
       "</div>"
      ],
      "text/plain": [
       "   MAL_ID  ...                                               img_url\n",
       "0   20707  ...  https://cdn.myanimelist.net/images/anime/6/54815.jpg\n",
       "1   25627  ...  https://cdn.myanimelist.net/images/anime/3/65151.jpg\n",
       "2    7669  ...  https://cdn.myanimelist.net/images/anime/2/79900.jpg\n",
       "3    8481  ...  https://cdn.myanimelist.net/images/anime/6/26770.jpg\n",
       "4    6408  ...  https://cdn.myanimelist.net/images/anime/8/81162.jpg\n",
       "\n",
       "[5 rows x 11 columns]"
      ]
     },
     "execution_count": 48,
     "metadata": {},
     "output_type": "execute_result"
    }
   ],
   "source": [
    "anime_df = pd.read_csv('data/full_anime_info.csv')\n",
    "anime_df.head()"
   ]
  },
  {
   "cell_type": "code",
   "execution_count": 41,
   "id": "91c17609-a16a-4597-a213-8261223560c2",
   "metadata": {},
   "outputs": [],
   "source": [
    "pd.set_option(\"max_colwidth\", None)\n",
    "\n",
    "all_anime_types = set(anime_df['Type'].unique())\n",
    "\n",
    "def check_anime_types(types):\n",
    "    types = set([types]) if isinstance(types, str) else set(types)\n",
    "    if types.issubset(all_anime_types):\n",
    "        return\n",
    "    else:\n",
    "        for anime_type in types:\n",
    "            if anime_type not in all_anime_types:\n",
    "                raise Exception(f'Anime type \"{anime_type}\" is not valid!')\n",
    "\n",
    "def get_anime_rows(df, anime_query, exact_name=False, types=None):\n",
    "    df = df.copy()\n",
    "    if isinstance(anime_query, int):\n",
    "        df = df[df.MAL_ID == anime_query]\n",
    "    else:\n",
    "        if exact_name:\n",
    "            # get exact name\n",
    "            df = df[df.Name == anime_query]\n",
    "        else:\n",
    "            df = df[df.Name.str.contains(anime_query, case=False, regex=False)]\n",
    "        \n",
    "    if types:\n",
    "        check_anime_types(types)\n",
    "        df = df[df.Type.isin(types)]\n",
    "        \n",
    "    return df"
   ]
  },
  {
   "cell_type": "code",
   "execution_count": 14,
   "id": "3591a806-6e17-4415-b870-889b1e07c17e",
   "metadata": {},
   "outputs": [],
   "source": [
    "# recommended embedding sizes by fastai: (600, 363)\n",
    "# reduced a lot here to make it simpler\n",
    "USER_EMB_SIZE = 128\n",
    "ANIME_EMB_SIZE = 128\n",
    "EMBEDDING_SIZES = (USER_EMB_SIZE, ANIME_EMB_SIZE)\n",
    "n_users, n_animes = 145311, 17562\n",
    "\n",
    "K = keras.backend\n",
    "\n",
    "def get_model():\n",
    "    print(\"[INFO] Using Subclassing API Model\")\n",
    "\n",
    "    # Resets all state generated by Keras to clear all models\n",
    "    K.clear_session()\n",
    "    \n",
    "    model = RecommenderModel(n_users, n_animes, EMBEDDING_SIZES)\n",
    "\n",
    "#     optimizer = Adam(lr=MAX_LR)\n",
    "#     optimizer = Adam(lr=MAX_LR, decay=MAX_LR / EPOCHS)\n",
    "    model.compile(loss='binary_crossentropy', metrics=['mae', 'mse'], optimizer='adam')\n",
    "    \n",
    "    return model"
   ]
  },
  {
   "cell_type": "code",
   "execution_count": 15,
   "id": "ae6d68b2-ecb3-488d-900a-9c35b822491d",
   "metadata": {},
   "outputs": [
    {
     "name": "stdout",
     "output_type": "stream",
     "text": [
      "[INFO] Using Subclassing API Model\n",
      "Calling model to load layers...\n",
      "Loaded weights.\n"
     ]
    }
   ],
   "source": [
    "WEIGHTS_PATH = 'assets/weights.h5'\n",
    "\n",
    "model = get_model()\n",
    "print('Calling model to load layers...')\n",
    "_ = model(tf.ones((1, 2)))\n",
    "model.load_weights(WEIGHTS_PATH)\n",
    "print('Loaded weights.')"
   ]
  },
  {
   "cell_type": "markdown",
   "id": "9adb18d0-2dc7-4b99-a77f-48627260f05d",
   "metadata": {},
   "source": [
    "## Inspecting weights and similarity"
   ]
  },
  {
   "cell_type": "code",
   "execution_count": 16,
   "id": "d2b1b539-f181-47d6-9408-64bba3f6cc35",
   "metadata": {},
   "outputs": [],
   "source": [
    "weight_layer = model.get_layer('anime_embedding')\n",
    "weights = weight_layer.get_weights()[0]"
   ]
  },
  {
   "cell_type": "code",
   "execution_count": 17,
   "id": "787ec6c8-28b8-4ead-b31d-3156a5fbccc3",
   "metadata": {},
   "outputs": [
    {
     "data": {
      "text/plain": [
       "(17562, 128)"
      ]
     },
     "execution_count": 17,
     "metadata": {},
     "output_type": "execute_result"
    }
   ],
   "source": [
    "weights.shape"
   ]
  },
  {
   "cell_type": "code",
   "execution_count": 18,
   "id": "17f2dbe7-ce16-4d3f-8167-3f940bd0f279",
   "metadata": {},
   "outputs": [
    {
     "data": {
      "text/plain": [
       "-0.0003077352"
      ]
     },
     "execution_count": 18,
     "metadata": {},
     "output_type": "execute_result"
    }
   ],
   "source": [
    "weights.mean()"
   ]
  },
  {
   "cell_type": "code",
   "execution_count": 132,
   "id": "32372325-330d-4251-9525-636a8be90c8f",
   "metadata": {},
   "outputs": [
    {
     "data": {
      "text/plain": [
       "(17562, 128)"
      ]
     },
     "execution_count": 132,
     "metadata": {},
     "output_type": "execute_result"
    }
   ],
   "source": [
    "# because Dot layer was using normalize=True..?\n",
    "weights_norm = weights / np.linalg.norm(weights, axis=1, keepdims=True)\n",
    "weights_norm.shape"
   ]
  },
  {
   "cell_type": "markdown",
   "id": "2e1f4ed1-6add-4de7-9569-f2fa09f26845",
   "metadata": {},
   "source": [
    "According to the documentation, `normalize=True` would L2-normalize samples along the dot product axis before taking the dot product. <br>\n",
    "And if set to True, the output of the dot product is the **cosine proximity** between the two samples, <br>\n",
    "which makes it easier to compare similar things (Animes in this case).\n",
    "\n",
    "Formula used when `normalize=True`: <br>\n",
    "output = x / sqrt(max(sum(x**2), epsilon))"
   ]
  },
  {
   "cell_type": "code",
   "execution_count": 135,
   "id": "4918ee60-8f4c-4f2b-82ab-0cd1bab302d5",
   "metadata": {},
   "outputs": [
    {
     "data": {
      "text/plain": [
       "(17562, 128)"
      ]
     },
     "execution_count": 135,
     "metadata": {},
     "output_type": "execute_result"
    }
   ],
   "source": [
    "x = weights\n",
    "epsilon = 1e-12\n",
    "norm = np.sqrt(np.sum(x**2, axis=1, keepdims=True))\n",
    "output = x / norm\n",
    "output.shape"
   ]
  },
  {
   "cell_type": "code",
   "execution_count": 139,
   "id": "f76dd8fe-199b-4dc2-805d-683fb1855fa3",
   "metadata": {},
   "outputs": [
    {
     "data": {
      "text/plain": [
       "(17562, 128)"
      ]
     },
     "execution_count": 139,
     "metadata": {},
     "output_type": "execute_result"
    }
   ],
   "source": [
    "# normalize=True in Dot layer will do this before performing the dot product.\n",
    "weights_norm_tf = tf.math.l2_normalize(weights, axis=1).numpy()\n",
    "weights_norm_tf.shape"
   ]
  },
  {
   "cell_type": "code",
   "execution_count": 138,
   "id": "e80b8e9e-c2fa-430e-9410-7d96591b9ea0",
   "metadata": {},
   "outputs": [
    {
     "data": {
      "text/plain": [
       "(0.011004937, 0.011004936, 0.011004937)"
      ]
     },
     "execution_count": 138,
     "metadata": {},
     "output_type": "execute_result"
    }
   ],
   "source": [
    "# yes they are the same\n",
    "weights_norm[0].mean(), weights_norm_tf[0].mean(), output[0].mean()"
   ]
  },
  {
   "cell_type": "code",
   "execution_count": 140,
   "id": "306fba52-cc5f-4ed9-9d88-3ed0efdd9c78",
   "metadata": {},
   "outputs": [],
   "source": [
    "anime_id = 34572\n",
    "anime_idx = anime_id_to_idx.get(anime_id)\n",
    "\n",
    "distances = np.dot(weights_norm_tf, weights_norm_tf[anime_idx])"
   ]
  },
  {
   "cell_type": "code",
   "execution_count": 141,
   "id": "9833874d-2148-4382-89e2-a5794aa603b0",
   "metadata": {},
   "outputs": [
    {
     "data": {
      "text/plain": [
       "(17562,)"
      ]
     },
     "execution_count": 141,
     "metadata": {},
     "output_type": "execute_result"
    }
   ],
   "source": [
    "distances.shape"
   ]
  },
  {
   "cell_type": "code",
   "execution_count": 142,
   "id": "0ae457a3-c552-4455-8294-a380ad3e6364",
   "metadata": {},
   "outputs": [
    {
     "data": {
      "text/plain": [
       "array([1394, 1396, 4371,  230, 1706], dtype=int64)"
      ]
     },
     "execution_count": 142,
     "metadata": {},
     "output_type": "execute_result"
    }
   ],
   "source": [
    "np.argsort(distances)[::-1][:5]"
   ]
  },
  {
   "cell_type": "code",
   "execution_count": 143,
   "id": "3813c9f6-29f2-4417-9e79-e878713ed658",
   "metadata": {},
   "outputs": [
    {
     "data": {
      "text/plain": [
       "(0.9999998, 0.7089701, 0.5757308)"
      ]
     },
     "execution_count": 143,
     "metadata": {},
     "output_type": "execute_result"
    }
   ],
   "source": [
    "distances[1394], distances[1396], distances[4371]"
   ]
  },
  {
   "cell_type": "code",
   "execution_count": 144,
   "id": "7eeb69ce-387f-4c06-844c-ac66704b5cf5",
   "metadata": {
    "tags": []
   },
   "outputs": [],
   "source": [
    "def get_recommendation(anime_query, k=10, weights=weights, exact_name=False, types=None):\n",
    "    if types:\n",
    "        check_anime_types(types)\n",
    "    anime_rows = get_anime_rows(anime_df, anime_query, \n",
    "                               exact_name=exact_name)\n",
    "    if len(anime_rows) == 0:\n",
    "        raise Exception(f'Anime not found for {anime_query}')\n",
    "    anime_row = anime_rows.iloc[[0]]\n",
    "    anime_id = anime_row.MAL_ID.values[0]\n",
    "    anime_name = anime_row.Name.values[0]\n",
    "    anime_idx = anime_id_to_idx.get(anime_id)\n",
    "\n",
    "    # weights = anime_weights\n",
    "    # weights = weights_norm\n",
    "#         dists = np.dot(anime_weights[anime_idx], user_weights.T)\n",
    "    distances = np.dot(weights, weights[anime_idx])\n",
    "\n",
    "    sorted_dists_ind = np.argsort(distances)[::-1]\n",
    "\n",
    "    print(f'Recommending animes for {anime_name}')\n",
    "    display(anime_row.loc[:, 'MAL_ID': 'Aired'])\n",
    "\n",
    "    anime_list = []\n",
    "    # [1:] to skip the first row for anime_query\n",
    "    for idx in sorted_dists_ind[1:]:\n",
    "        similarity = distances[idx]\n",
    "        anime_id = anime_idx_to_id.get(idx)\n",
    "        anime_row = anime_df[anime_df.MAL_ID == anime_id]\n",
    "        anime_type = anime_row.Type.values[0]\n",
    "        if types and anime_type not in types:\n",
    "            continue\n",
    "        anime_name = anime_row.Name.values[0]\n",
    "        score = anime_row.Score.values[0]\n",
    "        genre = anime_row.Genres.values[0]\n",
    "\n",
    "        anime_list.append({\"Anime_id\": anime_id, \"Name\": anime_name,\n",
    "                           \"Similarity\": similarity, \"Score\": score,\n",
    "                           \"Type\": anime_type, \"Genre\": genre\n",
    "                          })\n",
    "        if len(anime_list) == k:\n",
    "            # enough number of recommendations\n",
    "            break\n",
    "    rec_df = pd.DataFrame(anime_list)\n",
    "    return rec_df"
   ]
  },
  {
   "cell_type": "code",
   "execution_count": 56,
   "id": "50b5a2f1-4150-459d-a1f9-ae19c1113cba",
   "metadata": {},
   "outputs": [
    {
     "name": "stdout",
     "output_type": "stream",
     "text": [
      "Recommending animes for Black Clover\n"
     ]
    },
    {
     "data": {
      "text/html": [
       "<div>\n",
       "<style scoped>\n",
       "    .dataframe tbody tr th:only-of-type {\n",
       "        vertical-align: middle;\n",
       "    }\n",
       "\n",
       "    .dataframe tbody tr th {\n",
       "        vertical-align: top;\n",
       "    }\n",
       "\n",
       "    .dataframe thead th {\n",
       "        text-align: right;\n",
       "    }\n",
       "</style>\n",
       "<table border=\"1\" class=\"dataframe\">\n",
       "  <thead>\n",
       "    <tr style=\"text-align: right;\">\n",
       "      <th></th>\n",
       "      <th>MAL_ID</th>\n",
       "      <th>Name</th>\n",
       "      <th>English name</th>\n",
       "      <th>Score</th>\n",
       "      <th>Genres</th>\n",
       "      <th>Type</th>\n",
       "      <th>Episodes</th>\n",
       "      <th>Aired</th>\n",
       "    </tr>\n",
       "  </thead>\n",
       "  <tbody>\n",
       "    <tr>\n",
       "      <th>1371</th>\n",
       "      <td>34572</td>\n",
       "      <td>Black Clover</td>\n",
       "      <td>Black Clover</td>\n",
       "      <td>7.38</td>\n",
       "      <td>Action, Comedy, Magic, Fantasy, Shounen</td>\n",
       "      <td>TV</td>\n",
       "      <td>170</td>\n",
       "      <td>Oct 3, 2017 to Mar 30, 2021</td>\n",
       "    </tr>\n",
       "  </tbody>\n",
       "</table>\n",
       "</div>"
      ],
      "text/plain": [
       "      MAL_ID          Name  English name  ...  Type Episodes                        Aired\n",
       "1371   34572  Black Clover  Black Clover  ...    TV      170  Oct 3, 2017 to Mar 30, 2021\n",
       "\n",
       "[1 rows x 8 columns]"
      ]
     },
     "metadata": {},
     "output_type": "display_data"
    },
    {
     "data": {
      "text/html": [
       "<div>\n",
       "<style scoped>\n",
       "    .dataframe tbody tr th:only-of-type {\n",
       "        vertical-align: middle;\n",
       "    }\n",
       "\n",
       "    .dataframe tbody tr th {\n",
       "        vertical-align: top;\n",
       "    }\n",
       "\n",
       "    .dataframe thead th {\n",
       "        text-align: right;\n",
       "    }\n",
       "</style>\n",
       "<table border=\"1\" class=\"dataframe\">\n",
       "  <thead>\n",
       "    <tr style=\"text-align: right;\">\n",
       "      <th></th>\n",
       "      <th>Anime_id</th>\n",
       "      <th>Name</th>\n",
       "      <th>Similarity</th>\n",
       "      <th>Score</th>\n",
       "      <th>Type</th>\n",
       "      <th>Genre</th>\n",
       "    </tr>\n",
       "  </thead>\n",
       "  <tbody>\n",
       "    <tr>\n",
       "      <th>0</th>\n",
       "      <td>34566</td>\n",
       "      <td>Boruto: Naruto Next Generations</td>\n",
       "      <td>0.754695</td>\n",
       "      <td>5.81</td>\n",
       "      <td>TV</td>\n",
       "      <td>Action, Adventure, Super Power, Martial Arts, Shounen</td>\n",
       "    </tr>\n",
       "    <tr>\n",
       "      <th>1</th>\n",
       "      <td>40748</td>\n",
       "      <td>Jujutsu Kaisen (TV)</td>\n",
       "      <td>0.584814</td>\n",
       "      <td>8.54</td>\n",
       "      <td>TV</td>\n",
       "      <td>Action, Demons, Supernatural, School, Shounen</td>\n",
       "    </tr>\n",
       "    <tr>\n",
       "      <th>2</th>\n",
       "      <td>37885</td>\n",
       "      <td>Super Dragon Ball Heroes</td>\n",
       "      <td>0.572704</td>\n",
       "      <td>5.29</td>\n",
       "      <td>ONA</td>\n",
       "      <td>Action, Comedy, Super Power, Martial Arts, Fantasy, Shounen</td>\n",
       "    </tr>\n",
       "    <tr>\n",
       "      <th>3</th>\n",
       "      <td>36516</td>\n",
       "      <td>Beatless</td>\n",
       "      <td>0.489075</td>\n",
       "      <td>6.20</td>\n",
       "      <td>TV</td>\n",
       "      <td>Action, Drama, Romance, Sci-Fi</td>\n",
       "    </tr>\n",
       "    <tr>\n",
       "      <th>4</th>\n",
       "      <td>21</td>\n",
       "      <td>One Piece</td>\n",
       "      <td>0.486404</td>\n",
       "      <td>8.52</td>\n",
       "      <td>TV</td>\n",
       "      <td>Action, Adventure, Comedy, Super Power, Drama, Fantasy, Shounen</td>\n",
       "    </tr>\n",
       "    <tr>\n",
       "      <th>5</th>\n",
       "      <td>40028</td>\n",
       "      <td>Shingeki no Kyojin: The Final Season</td>\n",
       "      <td>0.485405</td>\n",
       "      <td>9.17</td>\n",
       "      <td>TV</td>\n",
       "      <td>Action, Military, Mystery, Super Power, Drama, Fantasy, Shounen</td>\n",
       "    </tr>\n",
       "    <tr>\n",
       "      <th>6</th>\n",
       "      <td>36934</td>\n",
       "      <td>Captain Tsubasa (2018)</td>\n",
       "      <td>0.460407</td>\n",
       "      <td>7.42</td>\n",
       "      <td>TV</td>\n",
       "      <td>Action, Sports, Shounen</td>\n",
       "    </tr>\n",
       "    <tr>\n",
       "      <th>7</th>\n",
       "      <td>32105</td>\n",
       "      <td>Sousei no Onmyouji</td>\n",
       "      <td>0.458422</td>\n",
       "      <td>7.32</td>\n",
       "      <td>TV</td>\n",
       "      <td>Action, Supernatural, Romance, Fantasy, Shounen</td>\n",
       "    </tr>\n",
       "    <tr>\n",
       "      <th>8</th>\n",
       "      <td>39535</td>\n",
       "      <td>Mushoku Tensei: Isekai Ittara Honki Dasu</td>\n",
       "      <td>0.458240</td>\n",
       "      <td>8.37</td>\n",
       "      <td>TV</td>\n",
       "      <td>Drama, Magic, Fantasy</td>\n",
       "    </tr>\n",
       "    <tr>\n",
       "      <th>9</th>\n",
       "      <td>34279</td>\n",
       "      <td>Grancrest Senki</td>\n",
       "      <td>0.456420</td>\n",
       "      <td>7.25</td>\n",
       "      <td>TV</td>\n",
       "      <td>Action, Drama, Fantasy, Romance</td>\n",
       "    </tr>\n",
       "  </tbody>\n",
       "</table>\n",
       "</div>"
      ],
      "text/plain": [
       "   Anime_id  ...                                                            Genre\n",
       "0     34566  ...            Action, Adventure, Super Power, Martial Arts, Shounen\n",
       "1     40748  ...                    Action, Demons, Supernatural, School, Shounen\n",
       "2     37885  ...      Action, Comedy, Super Power, Martial Arts, Fantasy, Shounen\n",
       "3     36516  ...                                   Action, Drama, Romance, Sci-Fi\n",
       "4        21  ...  Action, Adventure, Comedy, Super Power, Drama, Fantasy, Shounen\n",
       "5     40028  ...  Action, Military, Mystery, Super Power, Drama, Fantasy, Shounen\n",
       "6     36934  ...                                          Action, Sports, Shounen\n",
       "7     32105  ...                  Action, Supernatural, Romance, Fantasy, Shounen\n",
       "8     39535  ...                                            Drama, Magic, Fantasy\n",
       "9     34279  ...                                  Action, Drama, Fantasy, Romance\n",
       "\n",
       "[10 rows x 6 columns]"
      ]
     },
     "execution_count": 56,
     "metadata": {},
     "output_type": "execute_result"
    }
   ],
   "source": [
    "get_recommendation(34572, weights=weights)"
   ]
  },
  {
   "cell_type": "code",
   "execution_count": 145,
   "id": "49d9d16c-a134-4bd3-9328-ce0fdc5cbc80",
   "metadata": {},
   "outputs": [
    {
     "name": "stdout",
     "output_type": "stream",
     "text": [
      "Recommending animes for Black Clover\n"
     ]
    },
    {
     "data": {
      "text/html": [
       "<div>\n",
       "<style scoped>\n",
       "    .dataframe tbody tr th:only-of-type {\n",
       "        vertical-align: middle;\n",
       "    }\n",
       "\n",
       "    .dataframe tbody tr th {\n",
       "        vertical-align: top;\n",
       "    }\n",
       "\n",
       "    .dataframe thead th {\n",
       "        text-align: right;\n",
       "    }\n",
       "</style>\n",
       "<table border=\"1\" class=\"dataframe\">\n",
       "  <thead>\n",
       "    <tr style=\"text-align: right;\">\n",
       "      <th></th>\n",
       "      <th>MAL_ID</th>\n",
       "      <th>Name</th>\n",
       "      <th>English name</th>\n",
       "      <th>Score</th>\n",
       "      <th>Genres</th>\n",
       "      <th>Type</th>\n",
       "      <th>Episodes</th>\n",
       "      <th>Aired</th>\n",
       "    </tr>\n",
       "  </thead>\n",
       "  <tbody>\n",
       "    <tr>\n",
       "      <th>1371</th>\n",
       "      <td>34572</td>\n",
       "      <td>Black Clover</td>\n",
       "      <td>Black Clover</td>\n",
       "      <td>7.38</td>\n",
       "      <td>Action, Comedy, Magic, Fantasy, Shounen</td>\n",
       "      <td>TV</td>\n",
       "      <td>170</td>\n",
       "      <td>Oct 3, 2017 to Mar 30, 2021</td>\n",
       "    </tr>\n",
       "  </tbody>\n",
       "</table>\n",
       "</div>"
      ],
      "text/plain": [
       "      MAL_ID          Name  English name  ...  Type Episodes                        Aired\n",
       "1371   34572  Black Clover  Black Clover  ...    TV      170  Oct 3, 2017 to Mar 30, 2021\n",
       "\n",
       "[1 rows x 8 columns]"
      ]
     },
     "metadata": {},
     "output_type": "display_data"
    },
    {
     "data": {
      "text/html": [
       "<div>\n",
       "<style scoped>\n",
       "    .dataframe tbody tr th:only-of-type {\n",
       "        vertical-align: middle;\n",
       "    }\n",
       "\n",
       "    .dataframe tbody tr th {\n",
       "        vertical-align: top;\n",
       "    }\n",
       "\n",
       "    .dataframe thead th {\n",
       "        text-align: right;\n",
       "    }\n",
       "</style>\n",
       "<table border=\"1\" class=\"dataframe\">\n",
       "  <thead>\n",
       "    <tr style=\"text-align: right;\">\n",
       "      <th></th>\n",
       "      <th>Anime_id</th>\n",
       "      <th>Name</th>\n",
       "      <th>Similarity</th>\n",
       "      <th>Score</th>\n",
       "      <th>Type</th>\n",
       "      <th>Genre</th>\n",
       "    </tr>\n",
       "  </thead>\n",
       "  <tbody>\n",
       "    <tr>\n",
       "      <th>0</th>\n",
       "      <td>34566</td>\n",
       "      <td>Boruto: Naruto Next Generations</td>\n",
       "      <td>0.708970</td>\n",
       "      <td>5.81</td>\n",
       "      <td>TV</td>\n",
       "      <td>Action, Adventure, Super Power, Martial Arts, Shounen</td>\n",
       "    </tr>\n",
       "    <tr>\n",
       "      <th>1</th>\n",
       "      <td>37885</td>\n",
       "      <td>Super Dragon Ball Heroes</td>\n",
       "      <td>0.575731</td>\n",
       "      <td>5.29</td>\n",
       "      <td>ONA</td>\n",
       "      <td>Action, Comedy, Super Power, Martial Arts, Fantasy, Shounen</td>\n",
       "    </tr>\n",
       "    <tr>\n",
       "      <th>2</th>\n",
       "      <td>40748</td>\n",
       "      <td>Jujutsu Kaisen (TV)</td>\n",
       "      <td>0.564877</td>\n",
       "      <td>8.54</td>\n",
       "      <td>TV</td>\n",
       "      <td>Action, Demons, Supernatural, School, Shounen</td>\n",
       "    </tr>\n",
       "    <tr>\n",
       "      <th>3</th>\n",
       "      <td>36516</td>\n",
       "      <td>Beatless</td>\n",
       "      <td>0.476590</td>\n",
       "      <td>6.20</td>\n",
       "      <td>TV</td>\n",
       "      <td>Action, Drama, Romance, Sci-Fi</td>\n",
       "    </tr>\n",
       "    <tr>\n",
       "      <th>4</th>\n",
       "      <td>21</td>\n",
       "      <td>One Piece</td>\n",
       "      <td>0.462426</td>\n",
       "      <td>8.52</td>\n",
       "      <td>TV</td>\n",
       "      <td>Action, Adventure, Comedy, Super Power, Drama, Fantasy, Shounen</td>\n",
       "    </tr>\n",
       "    <tr>\n",
       "      <th>5</th>\n",
       "      <td>34279</td>\n",
       "      <td>Grancrest Senki</td>\n",
       "      <td>0.458046</td>\n",
       "      <td>7.25</td>\n",
       "      <td>TV</td>\n",
       "      <td>Action, Drama, Fantasy, Romance</td>\n",
       "    </tr>\n",
       "    <tr>\n",
       "      <th>6</th>\n",
       "      <td>39535</td>\n",
       "      <td>Mushoku Tensei: Isekai Ittara Honki Dasu</td>\n",
       "      <td>0.452521</td>\n",
       "      <td>8.37</td>\n",
       "      <td>TV</td>\n",
       "      <td>Drama, Magic, Fantasy</td>\n",
       "    </tr>\n",
       "    <tr>\n",
       "      <th>7</th>\n",
       "      <td>40028</td>\n",
       "      <td>Shingeki no Kyojin: The Final Season</td>\n",
       "      <td>0.448825</td>\n",
       "      <td>9.17</td>\n",
       "      <td>TV</td>\n",
       "      <td>Action, Military, Mystery, Super Power, Drama, Fantasy, Shounen</td>\n",
       "    </tr>\n",
       "    <tr>\n",
       "      <th>8</th>\n",
       "      <td>32105</td>\n",
       "      <td>Sousei no Onmyouji</td>\n",
       "      <td>0.447679</td>\n",
       "      <td>7.32</td>\n",
       "      <td>TV</td>\n",
       "      <td>Action, Supernatural, Romance, Fantasy, Shounen</td>\n",
       "    </tr>\n",
       "    <tr>\n",
       "      <th>9</th>\n",
       "      <td>40594</td>\n",
       "      <td>Tatoeba Last Dungeon Mae no Mura no Shounen ga Joban no Machi de Kurasu Youna Monogatari</td>\n",
       "      <td>0.439266</td>\n",
       "      <td>6.75</td>\n",
       "      <td>TV</td>\n",
       "      <td>Adventure, Fantasy</td>\n",
       "    </tr>\n",
       "  </tbody>\n",
       "</table>\n",
       "</div>"
      ],
      "text/plain": [
       "   Anime_id  ...                                                            Genre\n",
       "0     34566  ...            Action, Adventure, Super Power, Martial Arts, Shounen\n",
       "1     37885  ...      Action, Comedy, Super Power, Martial Arts, Fantasy, Shounen\n",
       "2     40748  ...                    Action, Demons, Supernatural, School, Shounen\n",
       "3     36516  ...                                   Action, Drama, Romance, Sci-Fi\n",
       "4        21  ...  Action, Adventure, Comedy, Super Power, Drama, Fantasy, Shounen\n",
       "5     34279  ...                                  Action, Drama, Fantasy, Romance\n",
       "6     39535  ...                                            Drama, Magic, Fantasy\n",
       "7     40028  ...  Action, Military, Mystery, Super Power, Drama, Fantasy, Shounen\n",
       "8     32105  ...                  Action, Supernatural, Romance, Fantasy, Shounen\n",
       "9     40594  ...                                               Adventure, Fantasy\n",
       "\n",
       "[10 rows x 6 columns]"
      ]
     },
     "execution_count": 145,
     "metadata": {},
     "output_type": "execute_result"
    }
   ],
   "source": [
    "get_recommendation(34572, weights=weights_norm)"
   ]
  },
  {
   "cell_type": "code",
   "execution_count": 146,
   "id": "0d11774a-079e-45ad-8045-af7303c6328c",
   "metadata": {},
   "outputs": [
    {
     "name": "stdout",
     "output_type": "stream",
     "text": [
      "Recommending animes for Black Clover\n"
     ]
    },
    {
     "data": {
      "text/html": [
       "<div>\n",
       "<style scoped>\n",
       "    .dataframe tbody tr th:only-of-type {\n",
       "        vertical-align: middle;\n",
       "    }\n",
       "\n",
       "    .dataframe tbody tr th {\n",
       "        vertical-align: top;\n",
       "    }\n",
       "\n",
       "    .dataframe thead th {\n",
       "        text-align: right;\n",
       "    }\n",
       "</style>\n",
       "<table border=\"1\" class=\"dataframe\">\n",
       "  <thead>\n",
       "    <tr style=\"text-align: right;\">\n",
       "      <th></th>\n",
       "      <th>MAL_ID</th>\n",
       "      <th>Name</th>\n",
       "      <th>English name</th>\n",
       "      <th>Score</th>\n",
       "      <th>Genres</th>\n",
       "      <th>Type</th>\n",
       "      <th>Episodes</th>\n",
       "      <th>Aired</th>\n",
       "    </tr>\n",
       "  </thead>\n",
       "  <tbody>\n",
       "    <tr>\n",
       "      <th>1371</th>\n",
       "      <td>34572</td>\n",
       "      <td>Black Clover</td>\n",
       "      <td>Black Clover</td>\n",
       "      <td>7.38</td>\n",
       "      <td>Action, Comedy, Magic, Fantasy, Shounen</td>\n",
       "      <td>TV</td>\n",
       "      <td>170</td>\n",
       "      <td>Oct 3, 2017 to Mar 30, 2021</td>\n",
       "    </tr>\n",
       "  </tbody>\n",
       "</table>\n",
       "</div>"
      ],
      "text/plain": [
       "      MAL_ID          Name  English name  ...  Type Episodes                        Aired\n",
       "1371   34572  Black Clover  Black Clover  ...    TV      170  Oct 3, 2017 to Mar 30, 2021\n",
       "\n",
       "[1 rows x 8 columns]"
      ]
     },
     "metadata": {},
     "output_type": "display_data"
    },
    {
     "data": {
      "text/html": [
       "<div>\n",
       "<style scoped>\n",
       "    .dataframe tbody tr th:only-of-type {\n",
       "        vertical-align: middle;\n",
       "    }\n",
       "\n",
       "    .dataframe tbody tr th {\n",
       "        vertical-align: top;\n",
       "    }\n",
       "\n",
       "    .dataframe thead th {\n",
       "        text-align: right;\n",
       "    }\n",
       "</style>\n",
       "<table border=\"1\" class=\"dataframe\">\n",
       "  <thead>\n",
       "    <tr style=\"text-align: right;\">\n",
       "      <th></th>\n",
       "      <th>Anime_id</th>\n",
       "      <th>Name</th>\n",
       "      <th>Similarity</th>\n",
       "      <th>Score</th>\n",
       "      <th>Type</th>\n",
       "      <th>Genre</th>\n",
       "    </tr>\n",
       "  </thead>\n",
       "  <tbody>\n",
       "    <tr>\n",
       "      <th>0</th>\n",
       "      <td>34566</td>\n",
       "      <td>Boruto: Naruto Next Generations</td>\n",
       "      <td>0.708970</td>\n",
       "      <td>5.81</td>\n",
       "      <td>TV</td>\n",
       "      <td>Action, Adventure, Super Power, Martial Arts, Shounen</td>\n",
       "    </tr>\n",
       "    <tr>\n",
       "      <th>1</th>\n",
       "      <td>37885</td>\n",
       "      <td>Super Dragon Ball Heroes</td>\n",
       "      <td>0.575731</td>\n",
       "      <td>5.29</td>\n",
       "      <td>ONA</td>\n",
       "      <td>Action, Comedy, Super Power, Martial Arts, Fantasy, Shounen</td>\n",
       "    </tr>\n",
       "    <tr>\n",
       "      <th>2</th>\n",
       "      <td>40748</td>\n",
       "      <td>Jujutsu Kaisen (TV)</td>\n",
       "      <td>0.564877</td>\n",
       "      <td>8.54</td>\n",
       "      <td>TV</td>\n",
       "      <td>Action, Demons, Supernatural, School, Shounen</td>\n",
       "    </tr>\n",
       "    <tr>\n",
       "      <th>3</th>\n",
       "      <td>36516</td>\n",
       "      <td>Beatless</td>\n",
       "      <td>0.476590</td>\n",
       "      <td>6.20</td>\n",
       "      <td>TV</td>\n",
       "      <td>Action, Drama, Romance, Sci-Fi</td>\n",
       "    </tr>\n",
       "    <tr>\n",
       "      <th>4</th>\n",
       "      <td>21</td>\n",
       "      <td>One Piece</td>\n",
       "      <td>0.462426</td>\n",
       "      <td>8.52</td>\n",
       "      <td>TV</td>\n",
       "      <td>Action, Adventure, Comedy, Super Power, Drama, Fantasy, Shounen</td>\n",
       "    </tr>\n",
       "    <tr>\n",
       "      <th>5</th>\n",
       "      <td>34279</td>\n",
       "      <td>Grancrest Senki</td>\n",
       "      <td>0.458046</td>\n",
       "      <td>7.25</td>\n",
       "      <td>TV</td>\n",
       "      <td>Action, Drama, Fantasy, Romance</td>\n",
       "    </tr>\n",
       "    <tr>\n",
       "      <th>6</th>\n",
       "      <td>39535</td>\n",
       "      <td>Mushoku Tensei: Isekai Ittara Honki Dasu</td>\n",
       "      <td>0.452521</td>\n",
       "      <td>8.37</td>\n",
       "      <td>TV</td>\n",
       "      <td>Drama, Magic, Fantasy</td>\n",
       "    </tr>\n",
       "    <tr>\n",
       "      <th>7</th>\n",
       "      <td>40028</td>\n",
       "      <td>Shingeki no Kyojin: The Final Season</td>\n",
       "      <td>0.448825</td>\n",
       "      <td>9.17</td>\n",
       "      <td>TV</td>\n",
       "      <td>Action, Military, Mystery, Super Power, Drama, Fantasy, Shounen</td>\n",
       "    </tr>\n",
       "    <tr>\n",
       "      <th>8</th>\n",
       "      <td>32105</td>\n",
       "      <td>Sousei no Onmyouji</td>\n",
       "      <td>0.447679</td>\n",
       "      <td>7.32</td>\n",
       "      <td>TV</td>\n",
       "      <td>Action, Supernatural, Romance, Fantasy, Shounen</td>\n",
       "    </tr>\n",
       "    <tr>\n",
       "      <th>9</th>\n",
       "      <td>40594</td>\n",
       "      <td>Tatoeba Last Dungeon Mae no Mura no Shounen ga Joban no Machi de Kurasu Youna Monogatari</td>\n",
       "      <td>0.439266</td>\n",
       "      <td>6.75</td>\n",
       "      <td>TV</td>\n",
       "      <td>Adventure, Fantasy</td>\n",
       "    </tr>\n",
       "  </tbody>\n",
       "</table>\n",
       "</div>"
      ],
      "text/plain": [
       "   Anime_id  ...                                                            Genre\n",
       "0     34566  ...            Action, Adventure, Super Power, Martial Arts, Shounen\n",
       "1     37885  ...      Action, Comedy, Super Power, Martial Arts, Fantasy, Shounen\n",
       "2     40748  ...                    Action, Demons, Supernatural, School, Shounen\n",
       "3     36516  ...                                   Action, Drama, Romance, Sci-Fi\n",
       "4        21  ...  Action, Adventure, Comedy, Super Power, Drama, Fantasy, Shounen\n",
       "5     34279  ...                                  Action, Drama, Fantasy, Romance\n",
       "6     39535  ...                                            Drama, Magic, Fantasy\n",
       "7     40028  ...  Action, Military, Mystery, Super Power, Drama, Fantasy, Shounen\n",
       "8     32105  ...                  Action, Supernatural, Romance, Fantasy, Shounen\n",
       "9     40594  ...                                               Adventure, Fantasy\n",
       "\n",
       "[10 rows x 6 columns]"
      ]
     },
     "execution_count": 146,
     "metadata": {},
     "output_type": "execute_result"
    }
   ],
   "source": [
    "get_recommendation(34572, weights=weights_norm_tf)"
   ]
  },
  {
   "cell_type": "code",
   "execution_count": null,
   "id": "7dd61fe2-7e88-45c0-9ffc-4972119778cd",
   "metadata": {},
   "outputs": [],
   "source": []
  }
 ],
 "metadata": {
  "kernelspec": {
   "display_name": "tensorflow",
   "language": "python",
   "name": "tensorflow"
  },
  "language_info": {
   "codemirror_mode": {
    "name": "ipython",
    "version": 3
   },
   "file_extension": ".py",
   "mimetype": "text/x-python",
   "name": "python",
   "nbconvert_exporter": "python",
   "pygments_lexer": "ipython3",
   "version": "3.7.6"
  }
 },
 "nbformat": 4,
 "nbformat_minor": 5
}
