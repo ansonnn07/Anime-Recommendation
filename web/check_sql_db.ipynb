{
 "cells": [
  {
   "cell_type": "code",
   "execution_count": 2,
   "metadata": {},
   "outputs": [],
   "source": [
    "import sqlite3"
   ]
  },
  {
   "cell_type": "code",
   "execution_count": 3,
   "metadata": {},
   "outputs": [],
   "source": [
    "con = sqlite3.connect('website/user_history.db')"
   ]
  },
  {
   "cell_type": "code",
   "execution_count": 4,
   "metadata": {},
   "outputs": [],
   "source": [
    "cur = con.cursor()"
   ]
  },
  {
   "cell_type": "code",
   "execution_count": 8,
   "metadata": {},
   "outputs": [],
   "source": [
    "def run_sql(command):\n",
    "    cur.execute(command)\n",
    "    return cur.fetchall()"
   ]
  },
  {
   "cell_type": "code",
   "execution_count": 9,
   "metadata": {},
   "outputs": [
    {
     "data": {
      "text/plain": [
       "[('table',\n",
       "  'user',\n",
       "  'user',\n",
       "  2,\n",
       "  'CREATE TABLE user (\\n\\tid INTEGER NOT NULL, \\n\\tusername VARCHAR(30) NOT NULL, \\n\\tpassword_hash VARCHAR(50) NOT NULL, \\n\\tPRIMARY KEY (id), \\n\\tUNIQUE (username)\\n)'),\n",
       " ('table',\n",
       "  'bookmark',\n",
       "  'bookmark',\n",
       "  4,\n",
       "  'CREATE TABLE bookmark (\\n\\tid INTEGER NOT NULL, \\n\\tanime_id INTEGER NOT NULL, \\n\\tdate_created DATETIME, \\n\\tuser_id INTEGER, \\n\\tPRIMARY KEY (id), \\n\\tUNIQUE (anime_id), \\n\\tFOREIGN KEY(user_id) REFERENCES user (id)\\n)')]"
      ]
     },
     "execution_count": 9,
     "metadata": {},
     "output_type": "execute_result"
    }
   ],
   "source": [
    "run_sql('SELECT * from sqlite_master where type= \"table\"')"
   ]
  },
  {
   "cell_type": "code",
   "execution_count": 10,
   "metadata": {},
   "outputs": [
    {
     "data": {
      "text/plain": [
       "[(1, 5114, '2021-06-03 15:25:06', 1),\n",
       " (2, 40028, '2021-06-03 15:25:10', 1),\n",
       " (3, 9253, '2021-06-03 15:28:13', 1),\n",
       " (4, 38524, '2021-06-03 15:29:03', 1)]"
      ]
     },
     "execution_count": 10,
     "metadata": {},
     "output_type": "execute_result"
    }
   ],
   "source": [
    "run_sql('SELECT * FROM bookmark')"
   ]
  },
  {
   "cell_type": "code",
   "execution_count": 11,
   "metadata": {},
   "outputs": [
    {
     "data": {
      "text/plain": [
       "[(4, 38524, '2021-06-03 15:29:03', 1),\n",
       " (3, 9253, '2021-06-03 15:28:13', 1),\n",
       " (2, 40028, '2021-06-03 15:25:10', 1),\n",
       " (1, 5114, '2021-06-03 15:25:06', 1)]"
      ]
     },
     "execution_count": 11,
     "metadata": {},
     "output_type": "execute_result"
    }
   ],
   "source": [
    "run_sql('SELECT * FROM bookmark ORDER BY date_created DESC')"
   ]
  },
  {
   "cell_type": "code",
   "execution_count": null,
   "metadata": {},
   "outputs": [],
   "source": []
  }
 ],
 "metadata": {
  "kernelspec": {
   "display_name": "Python 3",
   "language": "python",
   "name": "python3"
  },
  "language_info": {
   "codemirror_mode": {
    "name": "ipython",
    "version": 3
   },
   "file_extension": ".py",
   "mimetype": "text/x-python",
   "name": "python",
   "nbconvert_exporter": "python",
   "pygments_lexer": "ipython3",
   "version": "3.8.8"
  }
 },
 "nbformat": 4,
 "nbformat_minor": 4
}
