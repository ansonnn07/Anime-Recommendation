{
 "cells": [
  {
   "cell_type": "markdown",
   "metadata": {
    "tags": []
   },
   "source": [
    "Most of the things in this notebook has been based on the Kaggle notebook provided by [Chaitanya at here](https://www.kaggle.com/chaitanya99/recommendation-system-cf-anime/notebook). Thank you for the amazing and informative notebook! And please consider support his work by upvoting him.\n",
    "\n",
    "In this notebook, I changed my model and some of the parts to extend on his work and also mainly to compare the training results to make sure that I'm not doing things incorrectly."
   ]
  },
  {
   "cell_type": "code",
   "execution_count": 1,
   "metadata": {
    "_kg_hide-input": false,
    "tags": []
   },
   "outputs": [],
   "source": [
    "import numpy as np\n",
    "import pandas as pd\n",
    "import matplotlib.pyplot as plt\n",
    "import math\n",
    "import joblib\n",
    "import os\n",
    "\n",
    "# from loguru import logger\n",
    "\n",
    "INPUT_DIR = 'data'\n",
    "CLEAN_ANIME_DIR = 'data'"
   ]
  },
  {
   "cell_type": "code",
   "execution_count": 4,
   "metadata": {
    "execution": {
     "iopub.execute_input": "2021-05-21T10:30:15.861007Z",
     "iopub.status.busy": "2021-05-21T10:30:15.860580Z",
     "iopub.status.idle": "2021-05-21T10:31:11.416896Z",
     "shell.execute_reply": "2021-05-21T10:31:11.415694Z",
     "shell.execute_reply.started": "2021-05-21T10:30:15.860969Z"
    }
   },
   "outputs": [
    {
     "data": {
      "text/html": [
       "<div>\n",
       "<style scoped>\n",
       "    .dataframe tbody tr th:only-of-type {\n",
       "        vertical-align: middle;\n",
       "    }\n",
       "\n",
       "    .dataframe tbody tr th {\n",
       "        vertical-align: top;\n",
       "    }\n",
       "\n",
       "    .dataframe thead th {\n",
       "        text-align: right;\n",
       "    }\n",
       "</style>\n",
       "<table border=\"1\" class=\"dataframe\">\n",
       "  <thead>\n",
       "    <tr style=\"text-align: right;\">\n",
       "      <th></th>\n",
       "      <th>user_id</th>\n",
       "      <th>anime_id</th>\n",
       "      <th>rating</th>\n",
       "    </tr>\n",
       "  </thead>\n",
       "  <tbody>\n",
       "    <tr>\n",
       "      <th>0</th>\n",
       "      <td>0</td>\n",
       "      <td>67</td>\n",
       "      <td>9</td>\n",
       "    </tr>\n",
       "    <tr>\n",
       "      <th>1</th>\n",
       "      <td>0</td>\n",
       "      <td>6702</td>\n",
       "      <td>7</td>\n",
       "    </tr>\n",
       "    <tr>\n",
       "      <th>2</th>\n",
       "      <td>0</td>\n",
       "      <td>242</td>\n",
       "      <td>10</td>\n",
       "    </tr>\n",
       "    <tr>\n",
       "      <th>3</th>\n",
       "      <td>0</td>\n",
       "      <td>4898</td>\n",
       "      <td>0</td>\n",
       "    </tr>\n",
       "    <tr>\n",
       "      <th>4</th>\n",
       "      <td>0</td>\n",
       "      <td>21</td>\n",
       "      <td>10</td>\n",
       "    </tr>\n",
       "  </tbody>\n",
       "</table>\n",
       "</div>"
      ],
      "text/plain": [
       "   user_id  anime_id  rating\n",
       "0        0        67       9\n",
       "1        0      6702       7\n",
       "2        0       242      10\n",
       "3        0      4898       0\n",
       "4        0        21      10"
      ]
     },
     "execution_count": 4,
     "metadata": {},
     "output_type": "execute_result"
    }
   ],
   "source": [
    "# df = pd.read_csv(CLEAN_ANIME_DIR)\n",
    "df = pd.read_csv(INPUT_DIR + '/animelist.csv', low_memory=False, usecols=[\"user_id\", \"anime_id\", \"rating\"], nrows=90000000)\n",
    "anime_df = pd.read_csv(INPUT_DIR + '/anime.csv')\n",
    "df.head()"
   ]
  },
  {
   "cell_type": "code",
   "execution_count": 5,
   "metadata": {
    "execution": {
     "iopub.execute_input": "2021-05-21T10:31:11.421029Z",
     "iopub.status.busy": "2021-05-21T10:31:11.420703Z",
     "iopub.status.idle": "2021-05-21T10:31:15.525961Z",
     "shell.execute_reply": "2021-05-21T10:31:15.524801Z",
     "shell.execute_reply.started": "2021-05-21T10:31:11.420998Z"
    }
   },
   "outputs": [
    {
     "data": {
      "text/plain": [
       "79012871"
      ]
     },
     "execution_count": 5,
     "metadata": {},
     "output_type": "execute_result"
    }
   ],
   "source": [
    "# User should rate atleast 200 animies\n",
    "n_ratings = df['user_id'].value_counts()\n",
    "\n",
    "min_n_ratings = 200\n",
    "df = df[df['user_id'].isin(n_ratings[n_ratings >= min_n_ratings].index)]\n",
    "len(df)"
   ]
  },
  {
   "cell_type": "code",
   "execution_count": 6,
   "metadata": {
    "execution": {
     "iopub.execute_input": "2021-05-21T09:57:43.740931Z",
     "iopub.status.busy": "2021-05-21T09:57:43.740552Z",
     "iopub.status.idle": "2021-05-21T09:58:20.783123Z",
     "shell.execute_reply": "2021-05-21T09:58:20.782097Z",
     "shell.execute_reply.started": "2021-05-21T09:57:43.740897Z"
    }
   },
   "outputs": [],
   "source": [
    "df.drop_duplicates(inplace=True)"
   ]
  },
  {
   "cell_type": "code",
   "execution_count": 7,
   "metadata": {
    "execution": {
     "iopub.execute_input": "2021-05-21T09:58:20.784885Z",
     "iopub.status.busy": "2021-05-21T09:58:20.784559Z",
     "iopub.status.idle": "2021-05-21T09:58:20.788276Z",
     "shell.execute_reply": "2021-05-21T09:58:20.787416Z",
     "shell.execute_reply.started": "2021-05-21T09:58:20.784852Z"
    }
   },
   "outputs": [],
   "source": [
    "# df.drop(columns=['watching_status', 'watched_episodes'], inplace=True)"
   ]
  },
  {
   "cell_type": "markdown",
   "metadata": {},
   "source": [
    "# Preprocessing"
   ]
  },
  {
   "cell_type": "code",
   "execution_count": 6,
   "metadata": {
    "execution": {
     "iopub.execute_input": "2021-05-21T10:31:15.528335Z",
     "iopub.status.busy": "2021-05-21T10:31:15.527922Z",
     "iopub.status.idle": "2021-05-21T10:31:19.535410Z",
     "shell.execute_reply": "2021-05-21T10:31:19.534305Z",
     "shell.execute_reply.started": "2021-05-21T10:31:15.528294Z"
    }
   },
   "outputs": [
    {
     "name": "stdout",
     "output_type": "stream",
     "text": [
      "Num of users: 145311\n",
      "Num of animes: 17562\n"
     ]
    }
   ],
   "source": [
    "user_id_to_idx = {user_id: i for i, user_id in enumerate(df.user_id.unique())}\n",
    "user_idx_to_id = {idx: user_id for user_id, idx in user_id_to_idx.items()}\n",
    "anime_id_to_idx = {anime_id: i for i, anime_id in enumerate(df.anime_id.unique())}\n",
    "anime_idx_to_id = {idx: anime_id for anime_id, idx in anime_id_to_idx.items()}\n",
    "df[\"user_id\"] = df[\"user_id\"].map(user_id_to_idx)\n",
    "df[\"anime_id\"] = df[\"anime_id\"].map(anime_id_to_idx)\n",
    "\n",
    "n_users = len(user_id_to_idx)\n",
    "n_animes = len(anime_id_to_idx)\n",
    "\n",
    "print(f\"Num of users: {n_users}\")\n",
    "print(f\"Num of animes: {n_animes}\")"
   ]
  },
  {
   "cell_type": "code",
   "execution_count": 32,
   "metadata": {
    "execution": {
     "iopub.execute_input": "2021-05-21T10:41:36.676800Z",
     "iopub.status.busy": "2021-05-21T10:41:36.674979Z",
     "iopub.status.idle": "2021-05-21T10:41:44.208742Z",
     "shell.execute_reply": "2021-05-21T10:41:44.207632Z",
     "shell.execute_reply.started": "2021-05-21T10:41:36.676705Z"
    }
   },
   "outputs": [
    {
     "data": {
      "text/plain": [
       "['encoder_dicts.joblib']"
      ]
     },
     "execution_count": 32,
     "metadata": {},
     "output_type": "execute_result"
    }
   ],
   "source": [
    "# encoder_dicts = {'user_id_to_idx': user_id_to_idx,'user_idx_to_id': user_idx_to_id,\n",
    "#                  'anime_id_to_idx': anime_id_to_idx, 'anime_idx_to_id': anime_idx_to_id}\n",
    "# joblib.dump(encoder_dicts, 'encoder_dicts.joblib')"
   ]
  },
  {
   "cell_type": "code",
   "execution_count": 10,
   "metadata": {
    "execution": {
     "iopub.execute_input": "2021-05-21T09:58:24.995465Z",
     "iopub.status.busy": "2021-05-21T09:58:24.995125Z",
     "iopub.status.idle": "2021-05-21T09:58:25.001763Z",
     "shell.execute_reply": "2021-05-21T09:58:25.000723Z",
     "shell.execute_reply.started": "2021-05-21T09:58:24.995432Z"
    }
   },
   "outputs": [
    {
     "data": {
      "text/plain": [
       "'79,012,870'"
      ]
     },
     "execution_count": 10,
     "metadata": {},
     "output_type": "execute_result"
    }
   ],
   "source": [
    "f'{len(df):,}'"
   ]
  },
  {
   "cell_type": "code",
   "execution_count": 11,
   "metadata": {
    "execution": {
     "iopub.execute_input": "2021-05-21T09:58:25.004064Z",
     "iopub.status.busy": "2021-05-21T09:58:25.003739Z",
     "iopub.status.idle": "2021-05-21T09:58:39.446259Z",
     "shell.execute_reply": "2021-05-21T09:58:39.445254Z",
     "shell.execute_reply.started": "2021-05-21T09:58:25.004033Z"
    }
   },
   "outputs": [],
   "source": [
    "# Shuffle\n",
    "df = df.sample(frac=1, random_state=73)\n",
    "\n",
    "X = df[['user_id', 'anime_id']].values\n",
    "# scale to [0, 1]\n",
    "# y = df[\"rating\"].apply(lambda x: (x - min_rating) / (max_rating - min_rating)).values\n",
    "y = (df[\"rating\"] / 10.).values\n",
    "\n",
    "# Split\n",
    "test_set_size = 1000000 #1m for test set\n",
    "train_indices = len(df) - test_set_size \n",
    "\n",
    "X_train, X_test, y_train, y_test = (\n",
    "    X[:train_indices],\n",
    "    X[train_indices:],\n",
    "    y[:train_indices],\n",
    "    y[train_indices:],\n",
    ")"
   ]
  },
  {
   "cell_type": "code",
   "execution_count": 12,
   "metadata": {
    "execution": {
     "iopub.execute_input": "2021-05-21T09:58:39.448106Z",
     "iopub.status.busy": "2021-05-21T09:58:39.447738Z",
     "iopub.status.idle": "2021-05-21T09:58:39.451641Z",
     "shell.execute_reply": "2021-05-21T09:58:39.450661Z",
     "shell.execute_reply.started": "2021-05-21T09:58:39.448070Z"
    }
   },
   "outputs": [],
   "source": [
    "# from sklearn.model_selection import train_test_split\n",
    "\n",
    "# X_train, X_test, y_train, y_test = train_test_split(\n",
    "#     df.drop(columns='rating').values, df['rating'].values, \n",
    "#     test_size=0.01, random_state=42)"
   ]
  },
  {
   "cell_type": "code",
   "execution_count": 13,
   "metadata": {
    "execution": {
     "iopub.execute_input": "2021-05-21T09:58:39.453346Z",
     "iopub.status.busy": "2021-05-21T09:58:39.452753Z",
     "iopub.status.idle": "2021-05-21T09:58:39.467150Z",
     "shell.execute_reply": "2021-05-21T09:58:39.465978Z",
     "shell.execute_reply.started": "2021-05-21T09:58:39.453312Z"
    }
   },
   "outputs": [
    {
     "name": "stdout",
     "output_type": "stream",
     "text": [
      "Length of train set: 78012870\n",
      "Length of test set: 1000000\n"
     ]
    }
   ],
   "source": [
    "print(f'Length of train set: {len(y_train)}')\n",
    "print(f'Length of test set: {len(y_test)}')"
   ]
  },
  {
   "cell_type": "code",
   "execution_count": 14,
   "metadata": {
    "execution": {
     "iopub.execute_input": "2021-05-21T09:58:39.469005Z",
     "iopub.status.busy": "2021-05-21T09:58:39.468619Z",
     "iopub.status.idle": "2021-05-21T09:58:39.480332Z",
     "shell.execute_reply": "2021-05-21T09:58:39.479177Z",
     "shell.execute_reply.started": "2021-05-21T09:58:39.468965Z"
    }
   },
   "outputs": [
    {
     "data": {
      "text/plain": [
       "((78012870, 2), (1000000, 2))"
      ]
     },
     "execution_count": 14,
     "metadata": {},
     "output_type": "execute_result"
    }
   ],
   "source": [
    "X_train.shape, X_test.shape"
   ]
  },
  {
   "cell_type": "code",
   "execution_count": 15,
   "metadata": {
    "execution": {
     "iopub.execute_input": "2021-05-21T09:58:39.482084Z",
     "iopub.status.busy": "2021-05-21T09:58:39.481747Z",
     "iopub.status.idle": "2021-05-21T09:58:43.628043Z",
     "shell.execute_reply": "2021-05-21T09:58:43.627157Z",
     "shell.execute_reply.started": "2021-05-21T09:58:39.482051Z"
    }
   },
   "outputs": [
    {
     "data": {
      "text/plain": [
       "user_id     145311\n",
       "anime_id     17562\n",
       "rating          11\n",
       "dtype: int64"
      ]
     },
     "execution_count": 15,
     "metadata": {},
     "output_type": "execute_result"
    }
   ],
   "source": [
    "df.nunique()"
   ]
  },
  {
   "cell_type": "code",
   "execution_count": 16,
   "metadata": {
    "execution": {
     "iopub.execute_input": "2021-05-21T09:58:43.629721Z",
     "iopub.status.busy": "2021-05-21T09:58:43.629417Z",
     "iopub.status.idle": "2021-05-21T09:58:43.634697Z",
     "shell.execute_reply": "2021-05-21T09:58:43.633519Z",
     "shell.execute_reply.started": "2021-05-21T09:58:43.629691Z"
    }
   },
   "outputs": [],
   "source": [
    "# X_train_user, X_train_anime = (X_train[:, 0], X_train[:, 1])\n",
    "# X_test_user, X_test_anime = (X_test[:, 0], X_test[:, 1])"
   ]
  },
  {
   "cell_type": "code",
   "execution_count": 17,
   "metadata": {
    "execution": {
     "iopub.execute_input": "2021-05-21T09:58:43.636731Z",
     "iopub.status.busy": "2021-05-21T09:58:43.636284Z",
     "iopub.status.idle": "2021-05-21T09:58:43.646071Z",
     "shell.execute_reply": "2021-05-21T09:58:43.645032Z",
     "shell.execute_reply.started": "2021-05-21T09:58:43.636683Z"
    }
   },
   "outputs": [],
   "source": [
    "# Each input is only with shape of (BS, 1)\n",
    "# X_train_user.shape, X_test_anime.shape"
   ]
  },
  {
   "cell_type": "code",
   "execution_count": 6,
   "metadata": {
    "_kg_hide-input": false,
    "execution": {
     "iopub.execute_input": "2021-05-21T13:58:02.546754Z",
     "iopub.status.busy": "2021-05-21T13:58:02.546386Z",
     "iopub.status.idle": "2021-05-21T13:58:02.558633Z",
     "shell.execute_reply": "2021-05-21T13:58:02.557427Z",
     "shell.execute_reply.started": "2021-05-21T13:58:02.546719Z"
    }
   },
   "outputs": [
    {
     "name": "stdout",
     "output_type": "stream",
     "text": [
      "2.4.1\n"
     ]
    }
   ],
   "source": [
    "# Accelerator check\n",
    "import tensorflow as tf\n",
    "\n",
    "TPU_INIT = False\n",
    "\n",
    "# if TPU_INIT:\n",
    "#     tpu = tf.distribute.cluster_resolver.TPUClusterResolver.connect()\n",
    "#     tpu_strategy = tf.distribute.experimental.TPUStrategy(tpu)\n",
    "# else:\n",
    "#     !nvidia-smi\n",
    "if TPU_INIT:\n",
    "    try:\n",
    "        GPU = False\n",
    "        tpu = tf.distribute.cluster_resolver.TPUClusterResolver()  # TPU detection\n",
    "        print(\"Running on TPU \", tpu.cluster_spec().as_dict()[\"worker\"])\n",
    "        tf.config.experimental_connect_to_cluster(tpu)\n",
    "        tf.tpu.experimental.initialize_tpu_system(tpu)\n",
    "        tpu_strategy = tf.distribute.experimental.TPUStrategy(tpu)\n",
    "    except ValueError:\n",
    "        TPU_INIT = False\n",
    "        GPU = True\n",
    "        print(\"Not connected to a TPU runtime. Using CPU/GPU strategy\")\n",
    "        tpu_strategy = tf.distribute.MirroredStrategy()\n",
    "        !nvidia-smi\n",
    "    \n",
    "print(tf.__version__)"
   ]
  },
  {
   "cell_type": "markdown",
   "metadata": {},
   "source": [
    "# **Model Building**"
   ]
  },
  {
   "cell_type": "code",
   "execution_count": 7,
   "metadata": {
    "execution": {
     "iopub.execute_input": "2021-05-21T13:58:04.194558Z",
     "iopub.status.busy": "2021-05-21T13:58:04.194171Z",
     "iopub.status.idle": "2021-05-21T13:58:04.199649Z",
     "shell.execute_reply": "2021-05-21T13:58:04.198556Z",
     "shell.execute_reply.started": "2021-05-21T13:58:04.194526Z"
    }
   },
   "outputs": [],
   "source": [
    "import tensorflow as tf\n",
    "from tensorflow import keras\n",
    "from tensorflow.keras.models import Model\n",
    "from tensorflow.keras.optimizers import Adam\n",
    "# from tensorflow_addons.optimizers import AdamW\n",
    "# from tensorflow.keras.experimental import CosineDecayRestarts"
   ]
  },
  {
   "cell_type": "code",
   "execution_count": 8,
   "metadata": {
    "execution": {
     "iopub.execute_input": "2021-05-21T13:58:04.358698Z",
     "iopub.status.busy": "2021-05-21T13:58:04.358321Z",
     "iopub.status.idle": "2021-05-21T13:58:04.363565Z",
     "shell.execute_reply": "2021-05-21T13:58:04.362480Z",
     "shell.execute_reply.started": "2021-05-21T13:58:04.358667Z"
    }
   },
   "outputs": [],
   "source": [
    "from tensorflow.keras.layers import Add, Activation, Lambda, BatchNormalization, Concatenate, Dropout, Input, Embedding, Dot, Reshape, Dense, Flatten\n",
    "# from tensorflow.keras.optimizers.schedules import PolynomialDecay"
   ]
  },
  {
   "cell_type": "code",
   "execution_count": 22,
   "metadata": {
    "execution": {
     "iopub.execute_input": "2021-05-21T09:58:55.782248Z",
     "iopub.status.busy": "2021-05-21T09:58:55.781870Z",
     "iopub.status.idle": "2021-05-21T09:58:55.821631Z",
     "shell.execute_reply": "2021-05-21T09:58:55.820453Z",
     "shell.execute_reply.started": "2021-05-21T09:58:55.782213Z"
    }
   },
   "outputs": [
    {
     "name": "stdout",
     "output_type": "stream",
     "text": [
      "(BS, n_users, embedding_size)\n",
      "(5, 20, 50)\n",
      "(BS, n_animes, embedding_size)\n",
      "(5, 10, 50)\n",
      "Dot product shape:\n",
      "(5, 20, 10)\n"
     ]
    }
   ],
   "source": [
    "# testing Dot layer for dot product\n",
    "x1 = Embedding(100, output_dim=50)(np.arange(100).reshape(5, 20))\n",
    "x2 = Embedding(100, output_dim=50)(np.arange(50).reshape(5, 10))\n",
    "dotted = Dot(axes=2)([x1, x2])\n",
    "print(\"(BS, n_users, embedding_size)\")\n",
    "print(x1.shape)\n",
    "print(\"(BS, n_animes, embedding_size)\")\n",
    "print(x2.shape)\n",
    "print(\"Dot product shape:\")\n",
    "print(dotted.shape)"
   ]
  },
  {
   "cell_type": "code",
   "execution_count": 23,
   "metadata": {
    "execution": {
     "iopub.execute_input": "2021-05-21T09:58:55.823317Z",
     "iopub.status.busy": "2021-05-21T09:58:55.823008Z",
     "iopub.status.idle": "2021-05-21T09:58:55.829028Z",
     "shell.execute_reply": "2021-05-21T09:58:55.828015Z",
     "shell.execute_reply.started": "2021-05-21T09:58:55.823286Z"
    }
   },
   "outputs": [
    {
     "data": {
      "text/plain": [
       "(145311, 17562)"
      ]
     },
     "execution_count": 23,
     "metadata": {},
     "output_type": "execute_result"
    }
   ],
   "source": [
    "n_users, n_animes"
   ]
  },
  {
   "cell_type": "code",
   "execution_count": 24,
   "metadata": {
    "execution": {
     "iopub.execute_input": "2021-05-21T09:58:55.831144Z",
     "iopub.status.busy": "2021-05-21T09:58:55.830713Z",
     "iopub.status.idle": "2021-05-21T09:58:55.842504Z",
     "shell.execute_reply": "2021-05-21T09:58:55.841459Z",
     "shell.execute_reply.started": "2021-05-21T09:58:55.831100Z"
    }
   },
   "outputs": [
    {
     "data": {
      "text/plain": [
       "(130299, 130299, 0.8)"
      ]
     },
     "execution_count": 24,
     "metadata": {},
     "output_type": "execute_result"
    }
   ],
   "source": [
    "# X_train_user[0], X_train_anime[0], y_train[0]\n",
    "X_train[0][0], X_train[0][0], y_train[0]"
   ]
  },
  {
   "cell_type": "code",
   "execution_count": 25,
   "metadata": {
    "execution": {
     "iopub.execute_input": "2021-05-21T09:58:55.846443Z",
     "iopub.status.busy": "2021-05-21T09:58:55.846052Z",
     "iopub.status.idle": "2021-05-21T09:58:56.052045Z",
     "shell.execute_reply": "2021-05-21T09:58:56.050974Z",
     "shell.execute_reply.started": "2021-05-21T09:58:55.846407Z"
    }
   },
   "outputs": [
    {
     "data": {
      "text/html": [
       "<div>\n",
       "<style scoped>\n",
       "    .dataframe tbody tr th:only-of-type {\n",
       "        vertical-align: middle;\n",
       "    }\n",
       "\n",
       "    .dataframe tbody tr th {\n",
       "        vertical-align: top;\n",
       "    }\n",
       "\n",
       "    .dataframe thead th {\n",
       "        text-align: right;\n",
       "    }\n",
       "</style>\n",
       "<table border=\"1\" class=\"dataframe\">\n",
       "  <thead>\n",
       "    <tr style=\"text-align: right;\">\n",
       "      <th></th>\n",
       "      <th>user_id</th>\n",
       "      <th>anime_id</th>\n",
       "      <th>rating</th>\n",
       "    </tr>\n",
       "  </thead>\n",
       "  <tbody>\n",
       "  </tbody>\n",
       "</table>\n",
       "</div>"
      ],
      "text/plain": [
       "Empty DataFrame\n",
       "Columns: [user_id, anime_id, rating]\n",
       "Index: []"
      ]
     },
     "execution_count": 25,
     "metadata": {},
     "output_type": "execute_result"
    }
   ],
   "source": [
    "# each of them has a shape of 1\n",
    "df[(df.user_id == 64118) & (df.anime_id == 4551)]"
   ]
  },
  {
   "cell_type": "markdown",
   "metadata": {},
   "source": [
    "# Config and Model"
   ]
  },
  {
   "cell_type": "code",
   "execution_count": 5,
   "metadata": {
    "tags": []
   },
   "outputs": [
    {
     "name": "stdout",
     "output_type": "stream",
     "text": [
      "dict_keys(['user_id_to_idx', 'user_idx_to_id', 'anime_id_to_idx', 'anime_idx_to_id'])\n",
      "Wall time: 1.02 s\n"
     ]
    },
    {
     "data": {
      "text/plain": [
       "(145311, 17562)"
      ]
     },
     "execution_count": 5,
     "metadata": {},
     "output_type": "execute_result"
    }
   ],
   "source": [
    "%%time\n",
    "ENCODER_PATH = 'assets/encoder_dicts.joblib'\n",
    "encoders_dict = joblib.load(ENCODER_PATH)\n",
    "print(encoders_dict.keys())\n",
    "\n",
    "anime_id_to_idx = encoders_dict['anime_id_to_idx']\n",
    "anime_idx_to_id = encoders_dict['anime_idx_to_id']\n",
    "user_id_to_idx = encoders_dict['user_id_to_idx']\n",
    "user_idx_to_id = encoders_dict['user_idx_to_id']\n",
    "\n",
    "n_users, n_animes = len(user_id_to_idx), len(anime_id_to_idx)\n",
    "n_users, n_animes"
   ]
  },
  {
   "cell_type": "code",
   "execution_count": 16,
   "metadata": {
    "execution": {
     "iopub.execute_input": "2021-05-21T14:03:27.679307Z",
     "iopub.status.busy": "2021-05-21T14:03:27.678919Z",
     "iopub.status.idle": "2021-05-21T14:03:27.684304Z",
     "shell.execute_reply": "2021-05-21T14:03:27.682877Z",
     "shell.execute_reply.started": "2021-05-21T14:03:27.679276Z"
    }
   },
   "outputs": [],
   "source": [
    "# recommended embedding sizes by fastai: (600, 363)\n",
    "# reduced a lot here to make it simpler\n",
    "USER_EMB_SIZE = 128\n",
    "ANIME_EMB_SIZE = 128\n",
    "EMBEDDING_SIZES = (USER_EMB_SIZE, ANIME_EMB_SIZE)"
   ]
  },
  {
   "cell_type": "code",
   "execution_count": 17,
   "metadata": {
    "execution": {
     "iopub.execute_input": "2021-05-21T14:03:28.306887Z",
     "iopub.status.busy": "2021-05-21T14:03:28.306501Z",
     "iopub.status.idle": "2021-05-21T14:03:28.311498Z",
     "shell.execute_reply": "2021-05-21T14:03:28.310542Z",
     "shell.execute_reply.started": "2021-05-21T14:03:28.306841Z"
    }
   },
   "outputs": [],
   "source": [
    "MIN_LR = 1e-5  # minimum learning rate\n",
    "MAX_LR = 5e-4  # maximum learning rate\n",
    "BS = 10000  # batch_size\n",
    "EPOCHS = 10\n",
    "\n",
    "if TPU_INIT:\n",
    "    MAX_LR *= tpu_strategy.num_replicas_in_sync\n",
    "    BS *= tpu_strategy.num_replicas_in_sync\n",
    "    print(\"MAX_LR with TPU:\", MAX_LR)\n",
    "    print(\"batch_size with TPU:\", BS)"
   ]
  },
  {
   "cell_type": "code",
   "execution_count": 18,
   "metadata": {
    "execution": {
     "iopub.execute_input": "2021-05-21T14:03:29.327413Z",
     "iopub.status.busy": "2021-05-21T14:03:29.326877Z",
     "iopub.status.idle": "2021-05-21T14:03:29.331317Z",
     "shell.execute_reply": "2021-05-21T14:03:29.330187Z",
     "shell.execute_reply.started": "2021-05-21T14:03:29.327379Z"
    }
   },
   "outputs": [],
   "source": [
    "FUNCTIONAL_MODEL = False"
   ]
  },
  {
   "cell_type": "code",
   "execution_count": 19,
   "metadata": {
    "execution": {
     "iopub.execute_input": "2021-05-21T14:03:30.069446Z",
     "iopub.status.busy": "2021-05-21T14:03:30.069005Z",
     "iopub.status.idle": "2021-05-21T14:03:30.148575Z",
     "shell.execute_reply": "2021-05-21T14:03:30.147382Z",
     "shell.execute_reply.started": "2021-05-21T14:03:30.069413Z"
    }
   },
   "outputs": [
    {
     "name": "stdout",
     "output_type": "stream",
     "text": [
      "[INFO] Using Subclassing API Model\n"
     ]
    }
   ],
   "source": [
    "K = keras.backend\n",
    "\n",
    "class RecommenderModel(Model):\n",
    "    # Based on https://keras.io/examples/structured_data/collaborative_filtering_movielens/\n",
    "    def __init__(self, n_users, n_animes, embedding_sizes, activation='relu', **kwargs):\n",
    "        super().__init__(**kwargs)\n",
    "        self.n_users = n_users\n",
    "        self.n_animes = n_animes\n",
    "        self.embedding_sizes = embedding_sizes\n",
    "        self.user_embedding = Embedding(\n",
    "            name='user_embedding',\n",
    "            input_dim=n_users,\n",
    "            output_dim=embedding_sizes[0],\n",
    "#             embeddings_initializer='he_normal',\n",
    "#             embeddings_regularizer=keras.regularizers.l2(1e-6),\n",
    "        )\n",
    "        self.anime_embedding = Embedding(\n",
    "            name='anime_embedding',\n",
    "            input_dim=n_animes,\n",
    "            output_dim=embedding_sizes[1],\n",
    "#             embeddings_initializer='he_normal',\n",
    "#             embeddings_regularizer=keras.regularizers.l2(1e-6),\n",
    "        )\n",
    "        self.dot_layer = Dot(name='dot_product', normalize=True, axes=1)\n",
    "        self.layers_ = [\n",
    "            Flatten(),\n",
    "        \n",
    "#             bias is not needed when using BatchNorm\n",
    "            Dense(128, activation=activation, use_bias=False, kernel_initializer='he_normal'),\n",
    "            BatchNormalization(),\n",
    "            Dense(64, activation=activation, use_bias=False, kernel_initializer='he_normal'),\n",
    "            BatchNormalization(),\n",
    "            Dense(1, use_bias=False, kernel_initializer='he_normal'),\n",
    "            BatchNormalization(),\n",
    "            Activation('sigmoid'),\n",
    "        ]\n",
    "\n",
    "    def call(self, inputs):\n",
    "        user_vector = self.user_embedding(inputs[:, 0])\n",
    "        anime_vector = self.anime_embedding(inputs[:, 1])\n",
    "#         x = tf.concat([user_vector, anime_vector], axis=1)\n",
    "        x = self.dot_layer([user_vector, anime_vector])\n",
    "#         x = tf.tensordot(user_vector, anime_vector, axis=2)\n",
    "        for layer in self.layers_:\n",
    "            x = layer(x)\n",
    "#         x = dot_user_anime + user_bias + anime_bias\n",
    "        return x\n",
    "\n",
    "def get_model():\n",
    "    print(\"[INFO] Using Subclassing API Model\")\n",
    "\n",
    "    # Resets all state generated by Keras to clear all models\n",
    "    K.clear_session()\n",
    "    \n",
    "    if TPU_INIT:\n",
    "        with tpu_strategy.scope():\n",
    "            model = RecommenderModel(n_users, n_animes, EMBEDDING_SIZES)\n",
    "    else:\n",
    "        model = RecommenderModel(n_users, n_animes, EMBEDDING_SIZES)\n",
    "\n",
    "#     optimizer = Adam(lr=MAX_LR)\n",
    "#     optimizer = Adam(lr=MAX_LR, decay=MAX_LR / EPOCHS)\n",
    "    model.compile(loss='binary_crossentropy', metrics=['mae', 'mse'], optimizer='adam')\n",
    "    \n",
    "    return model\n",
    "\n",
    "if not FUNCTIONAL_MODEL:\n",
    "    model = get_model()"
   ]
  },
  {
   "cell_type": "code",
   "execution_count": 31,
   "metadata": {
    "execution": {
     "iopub.execute_input": "2021-05-21T10:02:00.041624Z",
     "iopub.status.busy": "2021-05-21T10:02:00.041189Z",
     "iopub.status.idle": "2021-05-21T10:02:00.055300Z",
     "shell.execute_reply": "2021-05-21T10:02:00.054433Z",
     "shell.execute_reply.started": "2021-05-21T10:02:00.041590Z"
    }
   },
   "outputs": [],
   "source": [
    "K = keras.backend\n",
    "K.clear_session()\n",
    "\n",
    "def RecommenderNet():\n",
    "    # from Chaitanya's notebook https://www.kaggle.com/chaitanya99/recommendation-system-cf-anime/notebook\n",
    "    embedding_size = 128\n",
    "    \n",
    "    user = Input(name = 'user', shape = [1])\n",
    "    user_embedding = Embedding(name = 'user_embedding',\n",
    "                       input_dim = n_users, \n",
    "                       output_dim = embedding_size)(user)\n",
    "    \n",
    "    anime = Input(name = 'anime', shape = [1])\n",
    "    anime_embedding = Embedding(name = 'anime_embedding',\n",
    "                       input_dim = n_animes, \n",
    "                       output_dim = embedding_size)(anime)\n",
    "    \n",
    "    # normalize=True will generate cosine similarity output\n",
    "    # axes=2 to perform matrix multiplication on embedding axes\n",
    "    x = Dot(name='dot_product', normalize=True, axes=2)([user_embedding, anime_embedding])\n",
    "    x = Flatten()(x)\n",
    "        \n",
    "    x = Dense(1, kernel_initializer='he_normal')(x)\n",
    "    x = BatchNormalization()(x)\n",
    "    x = Activation(\"sigmoid\")(x)\n",
    "    \n",
    "    model = Model(inputs=[user, anime], outputs=x)\n",
    "    model.compile(loss='binary_crossentropy', metrics=[\"mae\", \"mse\"], optimizer='Adam')\n",
    "    \n",
    "    return model\n",
    "\n",
    "def get_functional_model():\n",
    "    print(\"[INFO] Using Functional API Model\")\n",
    "    if TPU_INIT:    \n",
    "        with tpu_strategy.scope():\n",
    "            model = RecommenderNet()\n",
    "    else:\n",
    "        model = RecommenderNet()\n",
    "    print(model.summary())\n",
    "    return model\n",
    "    \n",
    "    \n",
    "if FUNCTIONAL_MODEL:\n",
    "    model = get_functional_model()"
   ]
  },
  {
   "cell_type": "code",
   "execution_count": 30,
   "metadata": {
    "execution": {
     "iopub.execute_input": "2021-05-21T07:08:57.413021Z",
     "iopub.status.busy": "2021-05-21T07:08:57.412569Z",
     "iopub.status.idle": "2021-05-21T07:08:57.427934Z",
     "shell.execute_reply": "2021-05-21T07:08:57.426834Z",
     "shell.execute_reply.started": "2021-05-21T07:08:57.412975Z"
    }
   },
   "outputs": [],
   "source": [
    "# model.summary()"
   ]
  },
  {
   "cell_type": "code",
   "execution_count": 31,
   "metadata": {
    "execution": {
     "iopub.execute_input": "2021-05-21T07:08:57.429402Z",
     "iopub.status.busy": "2021-05-21T07:08:57.429132Z",
     "iopub.status.idle": "2021-05-21T07:08:57.440226Z",
     "shell.execute_reply": "2021-05-21T07:08:57.439240Z",
     "shell.execute_reply.started": "2021-05-21T07:08:57.429375Z"
    }
   },
   "outputs": [],
   "source": [
    "# keras.utils.plot_model(model)"
   ]
  },
  {
   "cell_type": "code",
   "execution_count": 32,
   "metadata": {
    "execution": {
     "iopub.execute_input": "2021-05-21T10:02:02.459905Z",
     "iopub.status.busy": "2021-05-21T10:02:02.459343Z",
     "iopub.status.idle": "2021-05-21T10:02:02.472004Z",
     "shell.execute_reply": "2021-05-21T10:02:02.470802Z",
     "shell.execute_reply.started": "2021-05-21T10:02:02.459869Z"
    }
   },
   "outputs": [],
   "source": [
    "class ExponentialLearningRate(keras.callbacks.Callback):\n",
    "    def __init__(self, factor):\n",
    "        self.factor = factor\n",
    "        self.rates = []\n",
    "        self.losses = []\n",
    "    def on_batch_end(self, batch, logs):\n",
    "        self.rates.append(K.get_value(self.model.optimizer.lr))\n",
    "        self.losses.append(logs[\"loss\"])\n",
    "        K.set_value(self.model.optimizer.lr, self.model.optimizer.lr * self.factor)\n",
    "\n",
    "# find the optimal learning rate by making exponentially changing lr\n",
    "# @logger.catch\n",
    "def find_learning_rate(model, X, y, epochs=1, batch_size=32, min_rate=10**-5, max_rate=10):\n",
    "#     NOTE!: cannot get_weights() when using Keras Subclassing API\n",
    "#     Need to recreate model to reset weights!\n",
    "\n",
    "#     init_weights = model.get_weights() # get initial weights\n",
    "#     print(len(model.get_weights()))\n",
    "#     print((model.get_weights()[0]).shape)\n",
    "#     print((model.get_weights()[1]).shape)\n",
    "#     assert False\n",
    "    \n",
    "    iterations = math.ceil(len(X) / BS) * epochs # get number of steps or iterations\n",
    "    factor = np.exp(np.log(max_rate / min_rate) / iterations) # get the factor\n",
    "    init_lr = K.get_value(model.optimizer.lr) # get the initial lr\n",
    "    K.set_value(model.optimizer.lr, min_rate) # set the lr to min lr\n",
    "    exp_lr = ExponentialLearningRate(factor) # use the ExpLR class\n",
    "    history = model.fit(X, y, epochs=epochs, batch_size=batch_size,\n",
    "                        callbacks=[exp_lr])\n",
    "    # to set back to original after trying to find the best learning rates\n",
    "    K.set_value(model.optimizer.lr, init_lr)  \n",
    "#     model.set_weights(init_weights)\n",
    "    return exp_lr.rates, exp_lr.losses\n",
    "\n",
    "def plot_lr_vs_loss(rates, losses): # plot to see the losses of different lr\n",
    "    plt.plot(rates, losses)\n",
    "    plt.gca().set_xscale('log')\n",
    "    plt.hlines(min(losses), min(rates), max(rates))\n",
    "    plt.axis([min(rates), max(rates), min(losses), (losses[0] + min(losses)) / 2])\n",
    "    plt.xlabel(\"Learning rate\")\n",
    "    plt.ylabel(\"Loss\")"
   ]
  },
  {
   "cell_type": "code",
   "execution_count": 37,
   "metadata": {
    "execution": {
     "iopub.execute_input": "2021-05-21T10:02:36.389621Z",
     "iopub.status.busy": "2021-05-21T10:02:36.389100Z",
     "iopub.status.idle": "2021-05-21T10:02:36.395199Z",
     "shell.execute_reply": "2021-05-21T10:02:36.394071Z",
     "shell.execute_reply.started": "2021-05-21T10:02:36.389586Z"
    }
   },
   "outputs": [
    {
     "data": {
      "text/plain": [
       "976"
      ]
     },
     "execution_count": 37,
     "metadata": {},
     "output_type": "execute_result"
    }
   ],
   "source": [
    "iterations_per_epoch = math.ceil(len(X_train) / BS)\n",
    "iterations_per_epoch"
   ]
  },
  {
   "cell_type": "code",
   "execution_count": 34,
   "metadata": {
    "execution": {
     "iopub.execute_input": "2021-05-21T07:08:57.476253Z",
     "iopub.status.busy": "2021-05-21T07:08:57.475968Z",
     "iopub.status.idle": "2021-05-21T07:08:57.486246Z",
     "shell.execute_reply": "2021-05-21T07:08:57.485306Z",
     "shell.execute_reply.started": "2021-05-21T07:08:57.476225Z"
    }
   },
   "outputs": [],
   "source": [
    "# rates, losses = find_learning_rate(model, X_train, y_train, epochs=1, batch_size=BS)\n",
    "# plot_lr_vs_loss(rates, losses)"
   ]
  },
  {
   "cell_type": "code",
   "execution_count": 35,
   "metadata": {
    "execution": {
     "iopub.execute_input": "2021-05-21T07:08:57.487889Z",
     "iopub.status.busy": "2021-05-21T07:08:57.487549Z",
     "iopub.status.idle": "2021-05-21T07:08:57.503378Z",
     "shell.execute_reply": "2021-05-21T07:08:57.502495Z",
     "shell.execute_reply.started": "2021-05-21T07:08:57.487857Z"
    }
   },
   "outputs": [],
   "source": [
    "# model = get_model()"
   ]
  },
  {
   "cell_type": "code",
   "execution_count": 35,
   "metadata": {
    "execution": {
     "iopub.execute_input": "2021-05-21T10:02:21.821517Z",
     "iopub.status.busy": "2021-05-21T10:02:21.820814Z",
     "iopub.status.idle": "2021-05-21T10:02:21.833025Z",
     "shell.execute_reply": "2021-05-21T10:02:21.832111Z",
     "shell.execute_reply.started": "2021-05-21T10:02:21.821463Z"
    }
   },
   "outputs": [],
   "source": [
    "from tensorflow.keras.callbacks import Callback\n",
    "\n",
    "class OneCycleScheduler(keras.callbacks.Callback):\n",
    "    def __init__(self, iterations, max_rate, start_rate=None,\n",
    "                 last_iterations=None, last_rate=None):\n",
    "        self.iterations = iterations\n",
    "        self.max_rate = max_rate\n",
    "        self.start_rate = start_rate or max_rate / 10\n",
    "        self.last_iterations = last_iterations or iterations // 10 + 1\n",
    "        self.half_iteration = (iterations - self.last_iterations) // 2\n",
    "        self.last_rate = last_rate or self.start_rate / 1000\n",
    "        self.iteration = 0\n",
    "    def _interpolate(self, iter1, iter2, rate1, rate2):\n",
    "        return ((rate2 - rate1) * (self.iteration - iter1)\n",
    "                / (iter2 - iter1) + rate1)\n",
    "    def on_batch_begin(self, batch, logs):\n",
    "        if self.iteration < self.half_iteration:\n",
    "            rate = self._interpolate(0, self.half_iteration, self.start_rate, self.max_rate)\n",
    "        elif self.iteration < 2 * self.half_iteration:\n",
    "            rate = self._interpolate(self.half_iteration, 2 * self.half_iteration,\n",
    "                                     self.max_rate, self.start_rate)\n",
    "        else:\n",
    "            rate = self._interpolate(2 * self.half_iteration, self.iterations,\n",
    "                                     self.start_rate, self.last_rate)\n",
    "        self.iteration += 1\n",
    "        K.set_value(self.model.optimizer.lr, rate)"
   ]
  },
  {
   "cell_type": "code",
   "execution_count": 36,
   "metadata": {
    "execution": {
     "iopub.execute_input": "2021-05-21T10:02:22.265869Z",
     "iopub.status.busy": "2021-05-21T10:02:22.265460Z",
     "iopub.status.idle": "2021-05-21T10:02:22.273716Z",
     "shell.execute_reply": "2021-05-21T10:02:22.272078Z",
     "shell.execute_reply.started": "2021-05-21T10:02:22.265833Z"
    }
   },
   "outputs": [],
   "source": [
    "class LRLog(Callback):\n",
    "    def __init__(self, verbose=0):\n",
    "        self.verbose = verbose\n",
    "        self.lr_history = []\n",
    "    def __len__(self):\n",
    "        return len(self.lr_history)\n",
    "    def on_batch_end(self, batch, logs=None):\n",
    "        # Log the learning rate for current batch\n",
    "        rate = K.get_value(self.model.optimizer.lr)\n",
    "        self.lr_history.append(rate)\n",
    "    def on_epoch_begin(self, epoch, logs=None):\n",
    "        if self.verbose:\n",
    "            lr = K.get_value(self.model.optimizer.lr)\n",
    "#             print(dir(lr))\n",
    "            print(f\"Current learning rate: {lr:.2e}\")"
   ]
  },
  {
   "cell_type": "code",
   "execution_count": 1,
   "metadata": {
    "collapsed": true,
    "execution": {
     "iopub.execute_input": "2021-05-21T10:37:34.434877Z",
     "iopub.status.busy": "2021-05-21T10:37:34.434312Z",
     "iopub.status.idle": "2021-05-21T10:37:34.468395Z",
     "shell.execute_reply": "2021-05-21T10:37:34.467375Z",
     "shell.execute_reply.started": "2021-05-21T10:37:34.434842Z"
    },
    "jupyter": {
     "outputs_hidden": true
    }
   },
   "outputs": [],
   "source": [
    "from tensorflow.keras.callbacks import ModelCheckpoint, EarlyStopping, LearningRateScheduler\n",
    "\n",
    "start_lr = 1e-5\n",
    "\n",
    "rampup_epochs = 5\n",
    "sustain_epochs = 0\n",
    "exp_decay = 0.8\n",
    "def lrfn(epoch):\n",
    "    if epoch < rampup_epochs:\n",
    "        return (MAX_LR - start_lr) / rampup_epochs * epoch + start_lr\n",
    "    elif epoch < rampup_epochs + sustain_epochs:\n",
    "        return MAX_LR\n",
    "    else:\n",
    "        return (MAX_LR - MIN_LR) * exp_decay**(epoch-rampup_epochs-sustain_epochs) + MIN_LR\n",
    "lr_callback = LearningRateScheduler(lrfn, verbose=0)\n",
    "\n",
    "# starts at max learning rate\n",
    "# and decays until first_decay_steps before restarts\n",
    "# first_decay_steps = 10\n",
    "# lr_decayed_fn = CosineDecayRestarts(initial_lr, first_decay_steps, alpha=MIN_LR)\n",
    "# cos_decay_rest_cb = LearningRateScheduler(lr_decayed_fn, verbose=0)\n",
    "\n",
    "# decay_steps = 1000\n",
    "# poly_decay_fn = PolynomialDecay(\n",
    "#         MAX_LR,\n",
    "#         decay_steps,\n",
    "#         MIN_LR,\n",
    "#         power=0.5,\n",
    "#         cycle=True\n",
    "#     )\n",
    "# poly_decay_cb = LearningRateScheduler(poly_decay_fn, verbose=0)\n",
    "\n",
    "\n",
    "checkpoint_filepath = './weights.h5'\n",
    "model_checkpoints = ModelCheckpoint(filepath=checkpoint_filepath,\n",
    "                                        save_weights_only=True,\n",
    "                                        monitor='val_loss',\n",
    "                                        mode='min',\n",
    "                                        save_best_only=True)\n",
    "\n",
    "early_stopping = EarlyStopping(patience=3, monitor='val_loss',\n",
    "                               mode='min', restore_best_weights=True)\n",
    "\n",
    "\n",
    "iterations = math.ceil(len(X_train) / BS) * EPOCHS\n",
    "onecycle_lr = OneCycleScheduler(iterations, start_rate=MIN_LR, max_rate=MAX_LR)\n",
    "\n",
    "lr_log_cb = LRLog(verbose=1)\n",
    "\n",
    "my_callbacks = [\n",
    "    onecycle_lr,\n",
    "#     lr_callback,\n",
    "#     cos_decay_rest_cb,\n",
    "#     poly_decay_cb,\n",
    "    lr_log_cb,\n",
    "    model_checkpoints,\n",
    "    early_stopping,\n",
    "]"
   ]
  },
  {
   "cell_type": "code",
   "execution_count": 52,
   "metadata": {
    "execution": {
     "iopub.execute_input": "2021-05-21T10:18:33.610795Z",
     "iopub.status.busy": "2021-05-21T10:18:33.610380Z",
     "iopub.status.idle": "2021-05-21T10:18:33.667762Z",
     "shell.execute_reply": "2021-05-21T10:18:33.666798Z",
     "shell.execute_reply.started": "2021-05-21T10:18:33.610761Z"
    }
   },
   "outputs": [
    {
     "name": "stdout",
     "output_type": "stream",
     "text": [
      "[INFO] Using Subclassing API Model\n"
     ]
    }
   ],
   "source": [
    "if FUNCTIONAL_MODEL:\n",
    "    model = get_functional_model()\n",
    "else:\n",
    "    model = get_model()"
   ]
  },
  {
   "cell_type": "code",
   "execution_count": 53,
   "metadata": {
    "execution": {
     "iopub.execute_input": "2021-05-21T10:18:34.830312Z",
     "iopub.status.busy": "2021-05-21T10:18:34.829953Z",
     "iopub.status.idle": "2021-05-21T10:18:34.836282Z",
     "shell.execute_reply": "2021-05-21T10:18:34.835174Z",
     "shell.execute_reply.started": "2021-05-21T10:18:34.830281Z"
    }
   },
   "outputs": [
    {
     "data": {
      "text/plain": [
       "(1e-05, 0.004, 80000, 10)"
      ]
     },
     "execution_count": 53,
     "metadata": {},
     "output_type": "execute_result"
    }
   ],
   "source": [
    "MIN_LR, MAX_LR, BS, EPOCHS"
   ]
  },
  {
   "cell_type": "code",
   "execution_count": 46,
   "metadata": {
    "execution": {
     "iopub.execute_input": "2021-05-21T10:15:26.484018Z",
     "iopub.status.busy": "2021-05-21T10:15:26.483461Z",
     "iopub.status.idle": "2021-05-21T10:15:26.489220Z",
     "shell.execute_reply": "2021-05-21T10:15:26.488523Z",
     "shell.execute_reply.started": "2021-05-21T10:15:26.483970Z"
    }
   },
   "outputs": [],
   "source": [
    "def plot_lr_history():\n",
    "    print(f\"Total iterations: {len(lr_log_cb.lr_history)}\\n\")\n",
    "    plt.plot(lr_log_cb.lr_history)\n",
    "    plt.title(\"Learning Scheduler\")\n",
    "    plt.ylabel(\"Learning Rate\")\n",
    "    plt.xlabel(\"Batch (Step)\")\n",
    "    plt.show()"
   ]
  },
  {
   "cell_type": "code",
   "execution_count": 47,
   "metadata": {
    "execution": {
     "iopub.execute_input": "2021-05-21T10:15:26.656196Z",
     "iopub.status.busy": "2021-05-21T10:15:26.655657Z",
     "iopub.status.idle": "2021-05-21T10:15:26.670342Z",
     "shell.execute_reply": "2021-05-21T10:15:26.669626Z",
     "shell.execute_reply.started": "2021-05-21T10:15:26.656161Z"
    }
   },
   "outputs": [],
   "source": [
    "def plot_train_history():\n",
    "    val_loss = history.history[\"val_loss\"]\n",
    "    min_val_loss = np.min(val_loss)\n",
    "    epoch_min_val_loss = val_loss.index(min_val_loss) + 1\n",
    "    total_epochs = len(val_loss)\n",
    "    print(f\"Total epochs: {total_epochs}\")\n",
    "    print(f\"Min val_loss: {min_val_loss:.5f} at epoch {epoch_min_val_loss}\\n\")\n",
    "    xticks = np.arange(total_epochs)\n",
    "    xticks_labels = np.arange(1, total_epochs + 1)\n",
    "\n",
    "    plt.plot(history.history[\"loss\"])\n",
    "    plt.plot(history.history[\"val_loss\"])\n",
    "    plt.title(\"Training and Validation Loss\")\n",
    "    plt.ylabel(\"loss\")\n",
    "    plt.xlabel(\"epoch\")\n",
    "    plt.xticks(ticks=xticks, labels=xticks_labels)\n",
    "    plt.legend([\"train\", \"validation\"], loc=\"upper right\")\n",
    "    plt.show()"
   ]
  },
  {
   "cell_type": "markdown",
   "metadata": {},
   "source": [
    "# Training"
   ]
  },
  {
   "cell_type": "code",
   "execution_count": 42,
   "metadata": {
    "execution": {
     "iopub.execute_input": "2021-05-21T07:08:57.632864Z",
     "iopub.status.busy": "2021-05-21T07:08:57.632339Z",
     "iopub.status.idle": "2021-05-21T07:13:43.449271Z",
     "shell.execute_reply": "2021-05-21T07:13:43.448251Z",
     "shell.execute_reply.started": "2021-05-21T07:08:57.632818Z"
    }
   },
   "outputs": [
    {
     "name": "stdout",
     "output_type": "stream",
     "text": [
      "Epoch 1/10\n",
      "Current learning rate: 1.00e-05\n",
      "976/976 [==============================] - 42s 31ms/step - loss: 0.8013 - mae: 0.3856 - mse: 0.2001 - val_loss: 0.7986 - val_mae: 0.3852 - val_mse: 0.1993\n",
      "Epoch 2/10\n",
      "Current learning rate: 8.08e-04\n",
      "976/976 [==============================] - 25s 26ms/step - loss: 0.6644 - mae: 0.3200 - mse: 0.1428 - val_loss: 0.5369 - val_mae: 0.2459 - val_mse: 0.0892\n",
      "Epoch 3/10\n",
      "Current learning rate: 1.61e-03\n",
      "976/976 [==============================] - 25s 26ms/step - loss: 0.5189 - mae: 0.2309 - mse: 0.0822 - val_loss: 0.5029 - val_mae: 0.2116 - val_mse: 0.0774\n",
      "Epoch 4/10\n",
      "Current learning rate: 2.40e-03\n",
      "976/976 [==============================] - 25s 26ms/step - loss: 0.4829 - mae: 0.1974 - mse: 0.0694 - val_loss: 0.4944 - val_mae: 0.2000 - val_mse: 0.0747\n",
      "Epoch 5/10\n",
      "Current learning rate: 3.20e-03\n",
      "976/976 [==============================] - 26s 26ms/step - loss: 0.4627 - mae: 0.1806 - mse: 0.0621 - val_loss: 0.4930 - val_mae: 0.1965 - val_mse: 0.0743\n",
      "Epoch 6/10\n",
      "Current learning rate: 4.00e-03\n",
      "976/976 [==============================] - 26s 26ms/step - loss: 0.4520 - mae: 0.1721 - mse: 0.0582 - val_loss: 0.4935 - val_mae: 0.1952 - val_mse: 0.0745\n",
      "Epoch 7/10\n",
      "Current learning rate: 3.20e-03\n",
      "976/976 [==============================] - 26s 26ms/step - loss: 0.4384 - mae: 0.1620 - mse: 0.0531 - val_loss: 0.4954 - val_mae: 0.1932 - val_mse: 0.0750\n",
      "Epoch 8/10\n",
      "Current learning rate: 2.56e-03\n",
      "976/976 [==============================] - 25s 26ms/step - loss: 0.4292 - mae: 0.1548 - mse: 0.0498 - val_loss: 0.4977 - val_mae: 0.1920 - val_mse: 0.0757\n",
      "Epoch 9/10\n",
      "Current learning rate: 2.05e-03\n",
      "976/976 [==============================] - 26s 26ms/step - loss: 0.4225 - mae: 0.1495 - mse: 0.0473 - val_loss: 0.5008 - val_mae: 0.1912 - val_mse: 0.0765\n",
      "Epoch 10/10\n",
      "Current learning rate: 1.64e-03\n",
      "976/976 [==============================] - 26s 26ms/step - loss: 0.4171 - mae: 0.1451 - mse: 0.0453 - val_loss: 0.5043 - val_mae: 0.1908 - val_mse: 0.0774\n"
     ]
    }
   ],
   "source": [
    "# # Training with Subclassing API with Adam\n",
    "# # Epoch (10/10) , best loss: 0.4171 ; val_loss: 0.4930 (epoch 5)\n",
    "# if not FUNCTIONAL_MODEL:\n",
    "#     history = model.fit(\n",
    "#         x=X_train,\n",
    "#         y=y_train,\n",
    "#         batch_size=BS,\n",
    "#         epochs=EPOCHS,\n",
    "#         verbose=1,\n",
    "#         validation_data=(X_test, y_test),\n",
    "#         callbacks=my_callbacks\n",
    "#     )"
   ]
  },
  {
   "cell_type": "code",
   "execution_count": 54,
   "metadata": {
    "execution": {
     "iopub.execute_input": "2021-05-21T10:18:39.075152Z",
     "iopub.status.busy": "2021-05-21T10:18:39.074745Z",
     "iopub.status.idle": "2021-05-21T10:24:24.666653Z",
     "shell.execute_reply": "2021-05-21T10:24:24.665931Z",
     "shell.execute_reply.started": "2021-05-21T10:18:39.075112Z"
    }
   },
   "outputs": [
    {
     "name": "stdout",
     "output_type": "stream",
     "text": [
      "Epoch 1/10\n",
      "Current learning rate: 1.00e-03\n",
      "976/976 [==============================] - 48s 37ms/step - loss: 0.7504 - mae: 0.3755 - mse: 0.1716 - val_loss: 1.0064 - val_mae: 0.3987 - val_mse: 0.2364\n",
      "Epoch 2/10\n",
      "Current learning rate: 8.96e-04\n",
      "976/976 [==============================] - 31s 32ms/step - loss: 0.6853 - mae: 0.3698 - mse: 0.1529 - val_loss: 0.9943 - val_mae: 0.4016 - val_mse: 0.2453\n",
      "Epoch 3/10\n",
      "Current learning rate: 1.78e-03\n",
      "976/976 [==============================] - 31s 32ms/step - loss: 0.6793 - mae: 0.3697 - mse: 0.1512 - val_loss: 0.6799 - val_mae: 0.3714 - val_mse: 0.1516\n",
      "Epoch 4/10\n",
      "Current learning rate: 2.67e-03\n",
      "976/976 [==============================] - 31s 32ms/step - loss: 0.6784 - mae: 0.3693 - mse: 0.1507 - val_loss: 0.6790 - val_mae: 0.3700 - val_mse: 0.1512\n",
      "Epoch 5/10\n",
      "Current learning rate: 3.56e-03\n",
      "976/976 [==============================] - 31s 32ms/step - loss: 0.6764 - mae: 0.3673 - mse: 0.1498 - val_loss: 0.6777 - val_mae: 0.3673 - val_mse: 0.1505\n",
      "Epoch 6/10\n",
      "Current learning rate: 3.56e-03\n",
      "976/976 [==============================] - 31s 32ms/step - loss: 0.6119 - mae: 0.3063 - mse: 0.1216 - val_loss: 0.5168 - val_mae: 0.2153 - val_mse: 0.0837\n",
      "Epoch 7/10\n",
      "Current learning rate: 2.67e-03\n",
      "976/976 [==============================] - 31s 32ms/step - loss: 0.4975 - mae: 0.2029 - mse: 0.0762 - val_loss: 0.4991 - val_mae: 0.1998 - val_mse: 0.0770\n",
      "Epoch 8/10\n",
      "Current learning rate: 1.78e-03\n",
      "976/976 [==============================] - 31s 32ms/step - loss: 0.4658 - mae: 0.1777 - mse: 0.0645 - val_loss: 0.4971 - val_mae: 0.1926 - val_mse: 0.0758\n",
      "Epoch 9/10\n",
      "Current learning rate: 8.96e-04\n",
      "976/976 [==============================] - 31s 32ms/step - loss: 0.4416 - mae: 0.1587 - mse: 0.0559 - val_loss: 0.5045 - val_mae: 0.1901 - val_mse: 0.0775\n",
      "Epoch 10/10\n",
      "Current learning rate: 9.99e-06\n",
      "976/976 [==============================] - 31s 32ms/step - loss: 0.4273 - mae: 0.1481 - mse: 0.0507 - val_loss: 0.5116 - val_mae: 0.1870 - val_mse: 0.0790\n"
     ]
    }
   ],
   "source": [
    "# Training with my model of Subclassing API with more layers and 1cycleScheduler\n",
    "# Epoch 10/10 , best loss: 0.4194; val_loss: 0.4971 (epoch 8)\n",
    "if not FUNCTIONAL_MODEL:\n",
    "    history = model.fit(\n",
    "        x=X_train,\n",
    "        y=y_train,\n",
    "        batch_size=BS,\n",
    "        epochs=EPOCHS,\n",
    "        verbose=1,\n",
    "        validation_data=(X_test, y_test),\n",
    "        callbacks=my_callbacks\n",
    "    )"
   ]
  },
  {
   "cell_type": "code",
   "execution_count": 53,
   "metadata": {
    "execution": {
     "iopub.execute_input": "2021-05-21T05:35:20.453191Z",
     "iopub.status.busy": "2021-05-21T05:35:20.452688Z",
     "iopub.status.idle": "2021-05-21T05:35:20.468359Z",
     "shell.execute_reply": "2021-05-21T05:35:20.466598Z",
     "shell.execute_reply.started": "2021-05-21T05:35:20.453138Z"
    }
   },
   "outputs": [],
   "source": [
    "# Training with my model of Subclassing API with more Dense layers (units=[100, 50]),\n",
    "#  embeddings of he_normal init + L2 reg, and tf.concat, on another cleaned_dataset\n",
    "# Early stopped Epoch 9/20, best loss: 0.5907; val_loss: 0.6078 (epoch 6)"
   ]
  },
  {
   "cell_type": "code",
   "execution_count": 54,
   "metadata": {
    "execution": {
     "iopub.execute_input": "2021-05-21T05:35:20.470324Z",
     "iopub.status.busy": "2021-05-21T05:35:20.469825Z",
     "iopub.status.idle": "2021-05-21T05:40:16.849359Z",
     "shell.execute_reply": "2021-05-21T05:40:16.848420Z",
     "shell.execute_reply.started": "2021-05-21T05:35:20.470274Z"
    }
   },
   "outputs": [
    {
     "name": "stdout",
     "output_type": "stream",
     "text": [
      "Epoch 1/20\n",
      "\n",
      "Epoch 00001: LearningRateScheduler reducing learning rate to 1e-05.\n",
      "976/976 [==============================] - 43s 32ms/step - loss: 0.7666 - mae: 0.3797 - mse: 0.1887 - val_loss: 0.7625 - val_mae: 0.3793 - val_mse: 0.1873\n",
      "Epoch 2/20\n",
      "\n",
      "Epoch 00002: LearningRateScheduler reducing learning rate to 0.0008080000000000001.\n",
      "976/976 [==============================] - 27s 27ms/step - loss: 0.6514 - mae: 0.3200 - mse: 0.1383 - val_loss: 0.5327 - val_mae: 0.2410 - val_mse: 0.0878\n",
      "Epoch 3/20\n",
      "\n",
      "Epoch 00003: LearningRateScheduler reducing learning rate to 0.0016060000000000002.\n",
      "976/976 [==============================] - 29s 29ms/step - loss: 0.5157 - mae: 0.2268 - mse: 0.0812 - val_loss: 0.5006 - val_mae: 0.2080 - val_mse: 0.0767\n",
      "Epoch 4/20\n",
      "\n",
      "Epoch 00004: LearningRateScheduler reducing learning rate to 0.0024040000000000003.\n",
      "976/976 [==============================] - 27s 27ms/step - loss: 0.4806 - mae: 0.1948 - mse: 0.0687 - val_loss: 0.4936 - val_mae: 0.1992 - val_mse: 0.0746\n",
      "Epoch 5/20\n",
      "\n",
      "Epoch 00005: LearningRateScheduler reducing learning rate to 0.0032020000000000004.\n",
      "976/976 [==============================] - 26s 27ms/step - loss: 0.4610 - mae: 0.1791 - mse: 0.0616 - val_loss: 0.4930 - val_mae: 0.1962 - val_mse: 0.0743\n",
      "Epoch 6/20\n",
      "\n",
      "Epoch 00006: LearningRateScheduler reducing learning rate to 0.004.\n",
      "976/976 [==============================] - 27s 27ms/step - loss: 0.4508 - mae: 0.1711 - mse: 0.0578 - val_loss: 0.4933 - val_mae: 0.1951 - val_mse: 0.0744\n",
      "Epoch 7/20\n",
      "\n",
      "Epoch 00007: LearningRateScheduler reducing learning rate to 0.0032020000000000004.\n",
      "976/976 [==============================] - 27s 27ms/step - loss: 0.4376 - mae: 0.1612 - mse: 0.0528 - val_loss: 0.4953 - val_mae: 0.1929 - val_mse: 0.0750\n",
      "Epoch 8/20\n",
      "\n",
      "Epoch 00008: LearningRateScheduler reducing learning rate to 0.002563600000000001.\n",
      "976/976 [==============================] - 26s 27ms/step - loss: 0.4284 - mae: 0.1541 - mse: 0.0495 - val_loss: 0.4978 - val_mae: 0.1917 - val_mse: 0.0757\n",
      "Epoch 9/20\n",
      "\n",
      "Epoch 00009: LearningRateScheduler reducing learning rate to 0.002052880000000001.\n",
      "976/976 [==============================] - 27s 27ms/step - loss: 0.4218 - mae: 0.1488 - mse: 0.0470 - val_loss: 0.5008 - val_mae: 0.1910 - val_mse: 0.0765\n",
      "Epoch 10/20\n",
      "\n",
      "Epoch 00010: LearningRateScheduler reducing learning rate to 0.0016443040000000005.\n",
      "976/976 [==============================] - 27s 27ms/step - loss: 0.4166 - mae: 0.1446 - mse: 0.0451 - val_loss: 0.5043 - val_mae: 0.1906 - val_mse: 0.0774\n"
     ]
    }
   ],
   "source": [
    "# Training with Functional API with one Dense layer and Dot layer\n",
    "# Early stopped Epoch 10/20, best loss: 0.4166; val_loss: 0.4930 (epoch 5)\n",
    "if FUNCTIONAL_MODEL:\n",
    "    history = model.fit(\n",
    "        x=[X_train[:, 0], X_train[:, 1]],\n",
    "        y=y_train,\n",
    "        batch_size=BS,\n",
    "        epochs=20,\n",
    "        verbose=1,\n",
    "        validation_data=([X_test[:, 0], X_test[:, 1]],\n",
    "                         y_test),\n",
    "        callbacks=my_callbacks\n",
    "    )"
   ]
  },
  {
   "cell_type": "code",
   "execution_count": 55,
   "metadata": {
    "execution": {
     "iopub.execute_input": "2021-05-21T10:24:41.116613Z",
     "iopub.status.busy": "2021-05-21T10:24:41.116103Z",
     "iopub.status.idle": "2021-05-21T10:24:41.276305Z",
     "shell.execute_reply": "2021-05-21T10:24:41.275425Z",
     "shell.execute_reply.started": "2021-05-21T10:24:41.116567Z"
    }
   },
   "outputs": [
    {
     "name": "stdout",
     "output_type": "stream",
     "text": [
      "Total iterations: 9760\n",
      "\n"
     ]
    },
    {
     "data": {
      "image/png": "[encoded data removed]",
      "text/plain": [
       "<Figure size 432x288 with 1 Axes>"
      ]
     },
     "metadata": {
      "needs_background": "light"
     },
     "output_type": "display_data"
    }
   ],
   "source": [
    "plot_lr_history()"
   ]
  },
  {
   "cell_type": "code",
   "execution_count": 56,
   "metadata": {
    "execution": {
     "iopub.execute_input": "2021-05-21T10:24:42.328163Z",
     "iopub.status.busy": "2021-05-21T10:24:42.327798Z",
     "iopub.status.idle": "2021-05-21T10:24:42.490973Z",
     "shell.execute_reply": "2021-05-21T10:24:42.490152Z",
     "shell.execute_reply.started": "2021-05-21T10:24:42.328132Z"
    }
   },
   "outputs": [
    {
     "name": "stdout",
     "output_type": "stream",
     "text": [
      "Total epochs: 10\n",
      "Min val_loss: 0.49713 at epoch 8\n",
      "\n"
     ]
    },
    {
     "data": {
      "image/png": "[encoded data removed]",
      "text/plain": [
       "<Figure size 432x288 with 1 Axes>"
      ]
     },
     "metadata": {
      "needs_background": "light"
     },
     "output_type": "display_data"
    }
   ],
   "source": [
    "plot_train_history()"
   ]
  },
  {
   "cell_type": "code",
   "execution_count": 60,
   "metadata": {
    "execution": {
     "iopub.execute_input": "2021-05-21T05:40:19.339078Z",
     "iopub.status.busy": "2021-05-21T05:40:19.338597Z",
     "iopub.status.idle": "2021-05-21T05:40:19.350372Z",
     "shell.execute_reply": "2021-05-21T05:40:19.348924Z",
     "shell.execute_reply.started": "2021-05-21T05:40:19.339032Z"
    }
   },
   "outputs": [],
   "source": [
    "# user_id = df.user_id.sample(1).iloc[0]\n",
    "\n",
    "# animes_watched_by_user = df[df.user_id == user_id]\n",
    "# animes_not_watched = anime_df[\n",
    "#     ~anime_df[\"MAL_ID\"].isin(animes_watched_by_user.anime_id.values)\n",
    "# ][\"MAL_ID\"]\n",
    "# animes_not_watched = list(\n",
    "#     set(animes_not_watched).intersection(set(anime_id_to_idx.keys()))\n",
    "# )\n",
    "# animes_not_watched = [[anime_id_to_idx.get(x)] for x in animes_not_watched]\n",
    "# user_encoder = user_id_to_idx.get(user_id)\n",
    "# user_anime_array = np.hstack(\n",
    "#     ([[user_encoder]] * len(animes_not_watched), animes_not_watched)\n",
    "# )\n",
    "# ratings = model.predict(user_anime_array).flatten()\n",
    "# top_ratings_indices = ratings.argsort()[-10:][::-1]"
   ]
  },
  {
   "cell_type": "code",
   "execution_count": 61,
   "metadata": {
    "execution": {
     "iopub.execute_input": "2021-05-21T05:40:19.353487Z",
     "iopub.status.busy": "2021-05-21T05:40:19.352984Z",
     "iopub.status.idle": "2021-05-21T05:40:19.377866Z",
     "shell.execute_reply": "2021-05-21T05:40:19.376346Z",
     "shell.execute_reply.started": "2021-05-21T05:40:19.353436Z"
    }
   },
   "outputs": [],
   "source": [
    "# user_idx, anime_idx\n",
    "# user_anime_array[0][0]"
   ]
  },
  {
   "cell_type": "code",
   "execution_count": 62,
   "metadata": {
    "execution": {
     "iopub.execute_input": "2021-05-21T05:40:19.380337Z",
     "iopub.status.busy": "2021-05-21T05:40:19.379900Z",
     "iopub.status.idle": "2021-05-21T05:40:19.393715Z",
     "shell.execute_reply": "2021-05-21T05:40:19.392456Z",
     "shell.execute_reply.started": "2021-05-21T05:40:19.380301Z"
    }
   },
   "outputs": [],
   "source": [
    "# recommended_anime_ids = [\n",
    "#     anime_idx_to_id.get(animes_not_watched[x][0]) for x in top_ratings_indices\n",
    "# ]\n",
    "\n",
    "# print(\"Showing recommendations for user: {}\".format(user_id))\n",
    "# print(\"====\" * 9)\n",
    "# print(\"Animes with high ratings from user\")\n",
    "# print(\"----\" * 8)\n",
    "# top_animes_user = (\n",
    "#     animes_watched_by_user.sort_values(by=\"rating\", ascending=False)\n",
    "#     .head(5)\n",
    "#     .anime_id.values\n",
    "# )\n",
    "# anime_df_rows = anime_df[anime_df[\"MAL_ID\"].isin(top_animes_user)]\n",
    "# display(anime_df_rows)\n",
    "# # for row in anime_df_rows.itertuples():\n",
    "# #     print(row.Name, \":\", row.Genders)\n",
    "\n",
    "# print(\"----\" * 8)\n",
    "# print(\"Top 10 anime recommendations\")\n",
    "# print(\"----\" * 8)\n",
    "# recommended_animes = anime_df[anime_df[\"MAL_ID\"].isin(recommended_anime_ids)]\n",
    "# display(recommended_animes)\n",
    "# # for row in recommended_animes.itertuples():\n",
    "# #     print(row.Name, \":\", row.Genders)"
   ]
  },
  {
   "cell_type": "markdown",
   "metadata": {},
   "source": [
    "# **Extracting weights from model**"
   ]
  },
  {
   "cell_type": "code",
   "execution_count": 46,
   "metadata": {
    "execution": {
     "iopub.execute_input": "2021-05-21T14:19:32.373740Z",
     "iopub.status.busy": "2021-05-21T14:19:32.373383Z",
     "iopub.status.idle": "2021-05-21T14:19:32.381264Z",
     "shell.execute_reply": "2021-05-21T14:19:32.380135Z",
     "shell.execute_reply.started": "2021-05-21T14:19:32.373710Z"
    }
   },
   "outputs": [],
   "source": [
    "WEIGHTS_PATH = '../input/weights//weights.h5'\n",
    "def load_trained_model():\n",
    "    model = get_model()\n",
    "    print('Calling model to load layers...')\n",
    "    _ = model(tf.ones((1, 2)))\n",
    "    model.load_weights(WEIGHTS_PATH)\n",
    "    print('Loaded weights.')\n",
    "    return model"
   ]
  },
  {
   "cell_type": "code",
   "execution_count": 47,
   "metadata": {
    "execution": {
     "iopub.execute_input": "2021-05-21T14:19:32.580912Z",
     "iopub.status.busy": "2021-05-21T14:19:32.580540Z",
     "iopub.status.idle": "2021-05-21T14:19:35.054055Z",
     "shell.execute_reply": "2021-05-21T14:19:35.052762Z",
     "shell.execute_reply.started": "2021-05-21T14:19:32.580878Z"
    }
   },
   "outputs": [
    {
     "name": "stdout",
     "output_type": "stream",
     "text": [
      "[INFO] Using Subclassing API Model\n",
      "Calling model to load layers...\n",
      "Loaded weights.\n",
      "CPU times: user 398 ms, sys: 394 ms, total: 792 ms\n",
      "Wall time: 2.47 s\n"
     ]
    }
   ],
   "source": [
    "%%time\n",
    "model = load_trained_model()"
   ]
  },
  {
   "cell_type": "code",
   "execution_count": 34,
   "metadata": {
    "execution": {
     "iopub.execute_input": "2021-05-21T14:08:11.586974Z",
     "iopub.status.busy": "2021-05-21T14:08:11.586549Z",
     "iopub.status.idle": "2021-05-21T14:08:11.593059Z",
     "shell.execute_reply": "2021-05-21T14:08:11.592006Z",
     "shell.execute_reply.started": "2021-05-21T14:08:11.586941Z"
    }
   },
   "outputs": [
    {
     "name": "stdout",
     "output_type": "stream",
     "text": [
      "[INFO] There is no checkpoint file\n"
     ]
    }
   ],
   "source": [
    "# load the best weights\n",
    "try:\n",
    "    if os.path.exists(checkpoint_filepath):\n",
    "        model.load_weights(checkpoint_filepath)\n",
    "except:\n",
    "    print(\"[INFO] There is no checkpoint file\")"
   ]
  },
  {
   "cell_type": "code",
   "execution_count": 25,
   "metadata": {
    "execution": {
     "iopub.execute_input": "2021-05-21T14:05:35.620320Z",
     "iopub.status.busy": "2021-05-21T14:05:35.619936Z",
     "iopub.status.idle": "2021-05-21T14:05:35.789310Z",
     "shell.execute_reply": "2021-05-21T14:05:35.788261Z",
     "shell.execute_reply.started": "2021-05-21T14:05:35.620280Z"
    }
   },
   "outputs": [],
   "source": [
    "def extract_weights(name, model):\n",
    "    weight_layer = model.get_layer(name)\n",
    "    weights = weight_layer.get_weights()[0]\n",
    "    # because Dot layer was using normalize=True..?\n",
    "    weights = weights / np.linalg.norm(weights, axis = 1).reshape((-1, 1))\n",
    "    return weights\n",
    "\n",
    "anime_weights = extract_weights('anime_embedding', model)\n",
    "user_weights = extract_weights('user_embedding', model)"
   ]
  },
  {
   "cell_type": "code",
   "execution_count": 26,
   "metadata": {
    "execution": {
     "iopub.execute_input": "2021-05-21T14:05:39.015741Z",
     "iopub.status.busy": "2021-05-21T14:05:39.015348Z",
     "iopub.status.idle": "2021-05-21T14:05:39.020975Z",
     "shell.execute_reply": "2021-05-21T14:05:39.020302Z",
     "shell.execute_reply.started": "2021-05-21T14:05:39.015706Z"
    }
   },
   "outputs": [
    {
     "data": {
      "text/plain": [
       "((17562, 128), (145311, 128))"
      ]
     },
     "execution_count": 26,
     "metadata": {},
     "output_type": "execute_result"
    }
   ],
   "source": [
    "anime_weights.shape, user_weights.shape"
   ]
  },
  {
   "cell_type": "markdown",
   "metadata": {},
   "source": [
    "# Recommending Animes"
   ]
  },
  {
   "cell_type": "code",
   "execution_count": 28,
   "metadata": {
    "execution": {
     "iopub.execute_input": "2021-05-21T14:06:05.141112Z",
     "iopub.status.busy": "2021-05-21T14:06:05.140730Z",
     "iopub.status.idle": "2021-05-21T14:06:05.463679Z",
     "shell.execute_reply": "2021-05-21T14:06:05.462815Z",
     "shell.execute_reply.started": "2021-05-21T14:06:05.141074Z"
    }
   },
   "outputs": [],
   "source": [
    "anime_df = pd.read_csv(f'{INPUT_DIR}/anime.csv')"
   ]
  },
  {
   "cell_type": "code",
   "execution_count": 29,
   "metadata": {
    "execution": {
     "iopub.execute_input": "2021-05-21T14:06:06.935921Z",
     "iopub.status.busy": "2021-05-21T14:06:06.935396Z",
     "iopub.status.idle": "2021-05-21T14:06:06.986862Z",
     "shell.execute_reply": "2021-05-21T14:06:06.985606Z",
     "shell.execute_reply.started": "2021-05-21T14:06:06.935889Z"
    }
   },
   "outputs": [],
   "source": [
    "anime_df.sort_values('Name', inplace=True)"
   ]
  },
  {
   "cell_type": "code",
   "execution_count": 30,
   "metadata": {
    "execution": {
     "iopub.execute_input": "2021-05-21T14:06:08.455845Z",
     "iopub.status.busy": "2021-05-21T14:06:08.455488Z",
     "iopub.status.idle": "2021-05-21T14:06:08.467252Z",
     "shell.execute_reply": "2021-05-21T14:06:08.466134Z",
     "shell.execute_reply.started": "2021-05-21T14:06:08.455816Z"
    }
   },
   "outputs": [],
   "source": [
    "all_anime_types = set(anime_df['Type'].unique())\n",
    "\n",
    "def check_anime_types(types):\n",
    "    types = set([types]) if isinstance(types, str) else set(types)\n",
    "    if types.issubset(all_anime_types):\n",
    "        return\n",
    "    else:\n",
    "        for anime_type in types:\n",
    "            if anime_type not in all_anime_types:\n",
    "                raise Exception(f'Anime type \"{anime_type}\" is not valid!')\n",
    "\n",
    "def get_anime_rows(df, anime_query, exact_name=False, types=None):\n",
    "    df = df.copy()\n",
    "    if isinstance(anime_query, int):\n",
    "        df = df[df.MAL_ID == anime_query]\n",
    "    else:\n",
    "        if exact_name:\n",
    "            # get exact name\n",
    "            df = df[df.Name == anime_query]\n",
    "        else:\n",
    "            df = df[df.Name.str.contains(anime_query, case=False, regex=False)]\n",
    "        \n",
    "    if types:\n",
    "        check_anime_types(types)\n",
    "        df = df[df.Type.isin(types)]\n",
    "        \n",
    "    return df"
   ]
  },
  {
   "cell_type": "code",
   "execution_count": 31,
   "metadata": {
    "execution": {
     "iopub.execute_input": "2021-05-21T14:06:08.838005Z",
     "iopub.status.busy": "2021-05-21T14:06:08.837358Z",
     "iopub.status.idle": "2021-05-21T14:06:08.850320Z",
     "shell.execute_reply": "2021-05-21T14:06:08.849177Z",
     "shell.execute_reply.started": "2021-05-21T14:06:08.837963Z"
    }
   },
   "outputs": [],
   "source": [
    "#pd.reset_option('all')\n",
    "pd.set_option(\"max_colwidth\", None)\n",
    "\n",
    "def get_recommendation(anime_query, k=10, exact_name=False, types=None):\n",
    "    if types:\n",
    "        check_anime_types(types)\n",
    "    anime_rows = get_anime_rows(anime_df, anime_query, \n",
    "                               exact_name=exact_name)\n",
    "    if len(anime_rows) == 0:\n",
    "        raise Exception(f'Anime not found for {anime_query}')\n",
    "    anime_row = anime_rows.iloc[[0]]\n",
    "    anime_id = anime_row.MAL_ID.values[0]\n",
    "    anime_name = anime_row.Name.values[0]\n",
    "    anime_idx = anime_id_to_idx.get(anime_id)\n",
    "\n",
    "    weights = anime_weights\n",
    "#         dists = np.dot(anime_weights[anime_idx], user_weights.T)\n",
    "    distances = np.dot(weights, weights[anime_idx])\n",
    "\n",
    "    sorted_dists_ind = np.argsort(distances)[::-1]\n",
    "\n",
    "    print(f'Recommending animes for {anime_name}')\n",
    "    display(anime_row.loc[:, 'MAL_ID': 'Aired'])\n",
    "\n",
    "    anime_list = []\n",
    "    # [1:] to skip the first row for anime_query\n",
    "    for idx in sorted_dists_ind[1:]:\n",
    "        similarity = distances[idx]\n",
    "        anime_id = anime_idx_to_id.get(idx)\n",
    "        anime_row = anime_df[anime_df.MAL_ID == anime_id]\n",
    "        anime_type = anime_row.Type.values[0]\n",
    "        if types and anime_type not in types:\n",
    "            continue\n",
    "        anime_name = anime_row.Name.values[0]\n",
    "        score = anime_row.Score.values[0]\n",
    "        genre = anime_row.Genders.values[0]\n",
    "\n",
    "        anime_list.append({\"Anime_id\": anime_id, \"Name\": anime_name,\n",
    "                           \"Similarity\": similarity, \"Score\": score,\n",
    "                           \"Type\": anime_type, \"Genre\": genre\n",
    "                          })\n",
    "        if len(anime_list) == k:\n",
    "            # enough number of recommendations\n",
    "            break\n",
    "    rec_df = pd.DataFrame(anime_list)\n",
    "    return rec_df"
   ]
  },
  {
   "cell_type": "code",
   "execution_count": 38,
   "metadata": {
    "execution": {
     "iopub.execute_input": "2021-05-21T10:45:18.060651Z",
     "iopub.status.busy": "2021-05-21T10:45:18.060250Z",
     "iopub.status.idle": "2021-05-21T10:45:18.146002Z",
     "shell.execute_reply": "2021-05-21T10:45:18.144660Z",
     "shell.execute_reply.started": "2021-05-21T10:45:18.060616Z"
    }
   },
   "outputs": [
    {
     "name": "stdout",
     "output_type": "stream",
     "text": [
      "Recommending animes for Dragon Ball Super\n"
     ]
    },
    {
     "data": {
      "text/html": [
       "<div>\n",
       "<style scoped>\n",
       "    .dataframe tbody tr th:only-of-type {\n",
       "        vertical-align: middle;\n",
       "    }\n",
       "\n",
       "    .dataframe tbody tr th {\n",
       "        vertical-align: top;\n",
       "    }\n",
       "\n",
       "    .dataframe thead th {\n",
       "        text-align: right;\n",
       "    }\n",
       "</style>\n",
       "<table border=\"1\" class=\"dataframe\">\n",
       "  <thead>\n",
       "    <tr style=\"text-align: right;\">\n",
       "      <th></th>\n",
       "      <th>MAL_ID</th>\n",
       "      <th>Name</th>\n",
       "      <th>Score</th>\n",
       "      <th>Genders</th>\n",
       "      <th>English name</th>\n",
       "      <th>Japanese name</th>\n",
       "      <th>Type</th>\n",
       "      <th>Episodes</th>\n",
       "      <th>Aired</th>\n",
       "    </tr>\n",
       "  </thead>\n",
       "  <tbody>\n",
       "    <tr>\n",
       "      <th>10623</th>\n",
       "      <td>30694</td>\n",
       "      <td>Dragon Ball Super</td>\n",
       "      <td>7.42</td>\n",
       "      <td>Action, Adventure, Comedy, Super Power, Martial Arts, Fantasy, Shounen</td>\n",
       "      <td>Dragon Ball Super</td>\n",
       "      <td>ドラゴンボール超（スーパー）</td>\n",
       "      <td>TV</td>\n",
       "      <td>131</td>\n",
       "      <td>Jul 5, 2015 to Mar 25, 2018</td>\n",
       "    </tr>\n",
       "  </tbody>\n",
       "</table>\n",
       "</div>"
      ],
      "text/plain": [
       "       MAL_ID               Name Score  \\\n",
       "10623   30694  Dragon Ball Super  7.42   \n",
       "\n",
       "                                                                      Genders  \\\n",
       "10623  Action, Adventure, Comedy, Super Power, Martial Arts, Fantasy, Shounen   \n",
       "\n",
       "            English name   Japanese name Type Episodes  \\\n",
       "10623  Dragon Ball Super  ドラゴンボール超（スーパー）   TV      131   \n",
       "\n",
       "                             Aired  \n",
       "10623  Jul 5, 2015 to Mar 25, 2018  "
      ]
     },
     "metadata": {},
     "output_type": "display_data"
    },
    {
     "data": {
      "text/html": [
       "<div>\n",
       "<style scoped>\n",
       "    .dataframe tbody tr th:only-of-type {\n",
       "        vertical-align: middle;\n",
       "    }\n",
       "\n",
       "    .dataframe tbody tr th {\n",
       "        vertical-align: top;\n",
       "    }\n",
       "\n",
       "    .dataframe thead th {\n",
       "        text-align: right;\n",
       "    }\n",
       "</style>\n",
       "<table border=\"1\" class=\"dataframe\">\n",
       "  <thead>\n",
       "    <tr style=\"text-align: right;\">\n",
       "      <th></th>\n",
       "      <th>Anime_id</th>\n",
       "      <th>Name</th>\n",
       "      <th>Similarity</th>\n",
       "      <th>Score</th>\n",
       "      <th>Type</th>\n",
       "      <th>Genre</th>\n",
       "    </tr>\n",
       "  </thead>\n",
       "  <tbody>\n",
       "    <tr>\n",
       "      <th>0</th>\n",
       "      <td>22777</td>\n",
       "      <td>Dragon Ball Kai (2014)</td>\n",
       "      <td>0.706879</td>\n",
       "      <td>7.69</td>\n",
       "      <td>TV</td>\n",
       "      <td>Action, Adventure, Comedy, Super Power, Martial Arts, Fantasy, Shounen</td>\n",
       "    </tr>\n",
       "    <tr>\n",
       "      <th>1</th>\n",
       "      <td>6033</td>\n",
       "      <td>Dragon Ball Kai</td>\n",
       "      <td>0.631783</td>\n",
       "      <td>7.73</td>\n",
       "      <td>TV</td>\n",
       "      <td>Action, Adventure, Comedy, Fantasy, Martial Arts, Shounen, Super Power</td>\n",
       "    </tr>\n",
       "    <tr>\n",
       "      <th>2</th>\n",
       "      <td>25389</td>\n",
       "      <td>Dragon Ball Z Movie 15: Fukkatsu no \"F\"</td>\n",
       "      <td>0.590868</td>\n",
       "      <td>7.11</td>\n",
       "      <td>Movie</td>\n",
       "      <td>Action, Adventure, Comedy, Super Power, Martial Arts, Fantasy, Shounen</td>\n",
       "    </tr>\n",
       "    <tr>\n",
       "      <th>3</th>\n",
       "      <td>813</td>\n",
       "      <td>Dragon Ball Z</td>\n",
       "      <td>0.569074</td>\n",
       "      <td>8.16</td>\n",
       "      <td>TV</td>\n",
       "      <td>Action, Adventure, Comedy, Fantasy, Martial Arts, Shounen, Super Power</td>\n",
       "    </tr>\n",
       "    <tr>\n",
       "      <th>4</th>\n",
       "      <td>223</td>\n",
       "      <td>Dragon Ball</td>\n",
       "      <td>0.532696</td>\n",
       "      <td>8.0</td>\n",
       "      <td>TV</td>\n",
       "      <td>Adventure, Comedy, Fantasy, Martial Arts, Shounen, Super Power</td>\n",
       "    </tr>\n",
       "    <tr>\n",
       "      <th>5</th>\n",
       "      <td>14837</td>\n",
       "      <td>Dragon Ball Z Movie 14: Kami to Kami</td>\n",
       "      <td>0.531762</td>\n",
       "      <td>7.41</td>\n",
       "      <td>Movie</td>\n",
       "      <td>Action, Adventure, Super Power, Martial Arts, Fantasy, Shounen</td>\n",
       "    </tr>\n",
       "    <tr>\n",
       "      <th>6</th>\n",
       "      <td>225</td>\n",
       "      <td>Dragon Ball GT</td>\n",
       "      <td>0.522803</td>\n",
       "      <td>6.48</td>\n",
       "      <td>TV</td>\n",
       "      <td>Action, Sci-Fi, Adventure, Comedy, Super Power, Magic, Fantasy, Shounen</td>\n",
       "    </tr>\n",
       "    <tr>\n",
       "      <th>7</th>\n",
       "      <td>1735</td>\n",
       "      <td>Naruto: Shippuuden</td>\n",
       "      <td>0.520092</td>\n",
       "      <td>8.16</td>\n",
       "      <td>TV</td>\n",
       "      <td>Action, Adventure, Comedy, Super Power, Martial Arts, Shounen</td>\n",
       "    </tr>\n",
       "    <tr>\n",
       "      <th>8</th>\n",
       "      <td>36946</td>\n",
       "      <td>Dragon Ball Super Movie: Broly</td>\n",
       "      <td>0.480095</td>\n",
       "      <td>8.1</td>\n",
       "      <td>Movie</td>\n",
       "      <td>Action, Adventure, Super Power, Martial Arts, Fantasy, Shounen</td>\n",
       "    </tr>\n",
       "    <tr>\n",
       "      <th>9</th>\n",
       "      <td>22043</td>\n",
       "      <td>Fairy Tail (2014)</td>\n",
       "      <td>0.472232</td>\n",
       "      <td>7.73</td>\n",
       "      <td>TV</td>\n",
       "      <td>Action, Adventure, Comedy, Fantasy, Magic, Shounen</td>\n",
       "    </tr>\n",
       "  </tbody>\n",
       "</table>\n",
       "</div>"
      ],
      "text/plain": [
       "   Anime_id                                     Name  Similarity Score   Type  \\\n",
       "0     22777                   Dragon Ball Kai (2014)    0.706879  7.69     TV   \n",
       "1      6033                          Dragon Ball Kai    0.631783  7.73     TV   \n",
       "2     25389  Dragon Ball Z Movie 15: Fukkatsu no \"F\"    0.590868  7.11  Movie   \n",
       "3       813                            Dragon Ball Z    0.569074  8.16     TV   \n",
       "4       223                              Dragon Ball    0.532696   8.0     TV   \n",
       "5     14837     Dragon Ball Z Movie 14: Kami to Kami    0.531762  7.41  Movie   \n",
       "6       225                           Dragon Ball GT    0.522803  6.48     TV   \n",
       "7      1735                       Naruto: Shippuuden    0.520092  8.16     TV   \n",
       "8     36946           Dragon Ball Super Movie: Broly    0.480095   8.1  Movie   \n",
       "9     22043                        Fairy Tail (2014)    0.472232  7.73     TV   \n",
       "\n",
       "                                                                     Genre  \n",
       "0   Action, Adventure, Comedy, Super Power, Martial Arts, Fantasy, Shounen  \n",
       "1   Action, Adventure, Comedy, Fantasy, Martial Arts, Shounen, Super Power  \n",
       "2   Action, Adventure, Comedy, Super Power, Martial Arts, Fantasy, Shounen  \n",
       "3   Action, Adventure, Comedy, Fantasy, Martial Arts, Shounen, Super Power  \n",
       "4           Adventure, Comedy, Fantasy, Martial Arts, Shounen, Super Power  \n",
       "5           Action, Adventure, Super Power, Martial Arts, Fantasy, Shounen  \n",
       "6  Action, Sci-Fi, Adventure, Comedy, Super Power, Magic, Fantasy, Shounen  \n",
       "7            Action, Adventure, Comedy, Super Power, Martial Arts, Shounen  \n",
       "8           Action, Adventure, Super Power, Martial Arts, Fantasy, Shounen  \n",
       "9                       Action, Adventure, Comedy, Fantasy, Magic, Shounen  "
      ]
     },
     "execution_count": 38,
     "metadata": {},
     "output_type": "execute_result"
    }
   ],
   "source": [
    "get_recommendation('Dragon Ball Super', 10, types=('TV', 'Movie'))"
   ]
  },
  {
   "cell_type": "code",
   "execution_count": 197,
   "metadata": {
    "execution": {
     "iopub.execute_input": "2021-05-21T08:59:11.213220Z",
     "iopub.status.busy": "2021-05-21T08:59:11.212570Z",
     "iopub.status.idle": "2021-05-21T08:59:11.260240Z",
     "shell.execute_reply": "2021-05-21T08:59:11.258914Z",
     "shell.execute_reply.started": "2021-05-21T08:59:11.213180Z"
    }
   },
   "outputs": [
    {
     "data": {
      "text/html": [
       "<div>\n",
       "<style scoped>\n",
       "    .dataframe tbody tr th:only-of-type {\n",
       "        vertical-align: middle;\n",
       "    }\n",
       "\n",
       "    .dataframe tbody tr th {\n",
       "        vertical-align: top;\n",
       "    }\n",
       "\n",
       "    .dataframe thead th {\n",
       "        text-align: right;\n",
       "    }\n",
       "</style>\n",
       "<table border=\"1\" class=\"dataframe\">\n",
       "  <thead>\n",
       "    <tr style=\"text-align: right;\">\n",
       "      <th></th>\n",
       "      <th>MAL_ID</th>\n",
       "      <th>Name</th>\n",
       "      <th>Score</th>\n",
       "      <th>Genders</th>\n",
       "      <th>English name</th>\n",
       "      <th>Japanese name</th>\n",
       "      <th>Type</th>\n",
       "      <th>Episodes</th>\n",
       "      <th>Aired</th>\n",
       "      <th>Premiered</th>\n",
       "      <th>...</th>\n",
       "      <th>Score-10</th>\n",
       "      <th>Score-9</th>\n",
       "      <th>Score-8</th>\n",
       "      <th>Score-7</th>\n",
       "      <th>Score-6</th>\n",
       "      <th>Score-5</th>\n",
       "      <th>Score-4</th>\n",
       "      <th>Score-3</th>\n",
       "      <th>Score-2</th>\n",
       "      <th>Score-1</th>\n",
       "    </tr>\n",
       "  </thead>\n",
       "  <tbody>\n",
       "    <tr>\n",
       "      <th>3850</th>\n",
       "      <td>4835</td>\n",
       "      <td>Bleach Movie 3: Fade to Black - Kimi no Na wo Yobu</td>\n",
       "      <td>7.52</td>\n",
       "      <td>Action, Adventure, Comedy, Super Power, Supernatural, Shounen</td>\n",
       "      <td>Bleach the Movie:Fade to Black</td>\n",
       "      <td>劇場版 BLEACH Fade to Black 君の名を呼ぶ</td>\n",
       "      <td>Movie</td>\n",
       "      <td>1</td>\n",
       "      <td>Dec 13, 2008</td>\n",
       "      <td>NaN</td>\n",
       "      <td>...</td>\n",
       "      <td>12488.0</td>\n",
       "      <td>16473.0</td>\n",
       "      <td>28905.0</td>\n",
       "      <td>31320.0</td>\n",
       "      <td>13992.0</td>\n",
       "      <td>5920.0</td>\n",
       "      <td>1903.0</td>\n",
       "      <td>723.0</td>\n",
       "      <td>335.0</td>\n",
       "      <td>188.0</td>\n",
       "    </tr>\n",
       "    <tr>\n",
       "      <th>13149</th>\n",
       "      <td>35587</td>\n",
       "      <td>Boku wa Kimi no Namida</td>\n",
       "      <td>NaN</td>\n",
       "      <td>Music, Kids</td>\n",
       "      <td>NaN</td>\n",
       "      <td>僕は君の涙</td>\n",
       "      <td>Music</td>\n",
       "      <td>1</td>\n",
       "      <td>Jun 1, 1998</td>\n",
       "      <td>NaN</td>\n",
       "      <td>...</td>\n",
       "      <td>12.0</td>\n",
       "      <td>2.0</td>\n",
       "      <td>10.0</td>\n",
       "      <td>18.0</td>\n",
       "      <td>22.0</td>\n",
       "      <td>19.0</td>\n",
       "      <td>5.0</td>\n",
       "      <td>3.0</td>\n",
       "      <td>NaN</td>\n",
       "      <td>6.0</td>\n",
       "    </tr>\n",
       "    <tr>\n",
       "      <th>11308</th>\n",
       "      <td>32281</td>\n",
       "      <td>Kimi no Na wa.</td>\n",
       "      <td>8.96</td>\n",
       "      <td>Romance, Supernatural, School, Drama</td>\n",
       "      <td>Your Name.</td>\n",
       "      <td>君の名は。</td>\n",
       "      <td>Movie</td>\n",
       "      <td>1</td>\n",
       "      <td>Aug 26, 2016</td>\n",
       "      <td>NaN</td>\n",
       "      <td>...</td>\n",
       "      <td>516874.0</td>\n",
       "      <td>333022.0</td>\n",
       "      <td>200239.0</td>\n",
       "      <td>86314.0</td>\n",
       "      <td>29641.0</td>\n",
       "      <td>12257.0</td>\n",
       "      <td>5199.0</td>\n",
       "      <td>2131.0</td>\n",
       "      <td>1116.0</td>\n",
       "      <td>3966.0</td>\n",
       "    </tr>\n",
       "    <tr>\n",
       "      <th>4249</th>\n",
       "      <td>5643</td>\n",
       "      <td>Kimi no Na wo Yobeba</td>\n",
       "      <td>6.39</td>\n",
       "      <td>Hentai, School</td>\n",
       "      <td>NaN</td>\n",
       "      <td>キミの名を呼べば</td>\n",
       "      <td>OVA</td>\n",
       "      <td>2</td>\n",
       "      <td>Nov 28, 2008 to Feb 27, 2009</td>\n",
       "      <td>NaN</td>\n",
       "      <td>...</td>\n",
       "      <td>101.0</td>\n",
       "      <td>110.0</td>\n",
       "      <td>240.0</td>\n",
       "      <td>336.0</td>\n",
       "      <td>278.0</td>\n",
       "      <td>184.0</td>\n",
       "      <td>87.0</td>\n",
       "      <td>54.0</td>\n",
       "      <td>36.0</td>\n",
       "      <td>43.0</td>\n",
       "    </tr>\n",
       "  </tbody>\n",
       "</table>\n",
       "<p>4 rows × 35 columns</p>\n",
       "</div>"
      ],
      "text/plain": [
       "       MAL_ID                                                Name Score  \\\n",
       "3850     4835  Bleach Movie 3: Fade to Black - Kimi no Na wo Yobu  7.52   \n",
       "13149   35587                              Boku wa Kimi no Namida   NaN   \n",
       "11308   32281                                      Kimi no Na wa.  8.96   \n",
       "4249     5643                                Kimi no Na wo Yobeba  6.39   \n",
       "\n",
       "                                                             Genders  \\\n",
       "3850   Action, Adventure, Comedy, Super Power, Supernatural, Shounen   \n",
       "13149                                                    Music, Kids   \n",
       "11308                           Romance, Supernatural, School, Drama   \n",
       "4249                                                  Hentai, School   \n",
       "\n",
       "                         English name                    Japanese name   Type  \\\n",
       "3850   Bleach the Movie:Fade to Black  劇場版 BLEACH Fade to Black 君の名を呼ぶ  Movie   \n",
       "13149                             NaN                            僕は君の涙  Music   \n",
       "11308                      Your Name.                            君の名は。  Movie   \n",
       "4249                              NaN                         キミの名を呼べば    OVA   \n",
       "\n",
       "      Episodes                         Aired Premiered  ...  Score-10  \\\n",
       "3850         1                  Dec 13, 2008       NaN  ...   12488.0   \n",
       "13149        1                   Jun 1, 1998       NaN  ...      12.0   \n",
       "11308        1                  Aug 26, 2016       NaN  ...  516874.0   \n",
       "4249         2  Nov 28, 2008 to Feb 27, 2009       NaN  ...     101.0   \n",
       "\n",
       "        Score-9   Score-8  Score-7  Score-6  Score-5 Score-4  Score-3  \\\n",
       "3850    16473.0   28905.0  31320.0  13992.0   5920.0  1903.0    723.0   \n",
       "13149       2.0      10.0     18.0     22.0     19.0     5.0      3.0   \n",
       "11308  333022.0  200239.0  86314.0  29641.0  12257.0  5199.0   2131.0   \n",
       "4249      110.0     240.0    336.0    278.0    184.0    87.0     54.0   \n",
       "\n",
       "       Score-2  Score-1  \n",
       "3850     335.0    188.0  \n",
       "13149      NaN      6.0  \n",
       "11308   1116.0   3966.0  \n",
       "4249      36.0     43.0  \n",
       "\n",
       "[4 rows x 35 columns]"
      ]
     },
     "execution_count": 197,
     "metadata": {},
     "output_type": "execute_result"
    }
   ],
   "source": [
    "get_anime_rows(anime_df, 'kimi no na')"
   ]
  },
  {
   "cell_type": "code",
   "execution_count": 33,
   "metadata": {
    "execution": {
     "iopub.execute_input": "2021-05-21T14:06:21.578228Z",
     "iopub.status.busy": "2021-05-21T14:06:21.576195Z",
     "iopub.status.idle": "2021-05-21T14:06:21.658096Z",
     "shell.execute_reply": "2021-05-21T14:06:21.656793Z",
     "shell.execute_reply.started": "2021-05-21T14:06:21.578188Z"
    }
   },
   "outputs": [
    {
     "name": "stdout",
     "output_type": "stream",
     "text": [
      "Recommending animes for Kimi no Na wa.\n"
     ]
    },
    {
     "data": {
      "text/html": [
       "<div>\n",
       "<style scoped>\n",
       "    .dataframe tbody tr th:only-of-type {\n",
       "        vertical-align: middle;\n",
       "    }\n",
       "\n",
       "    .dataframe tbody tr th {\n",
       "        vertical-align: top;\n",
       "    }\n",
       "\n",
       "    .dataframe thead th {\n",
       "        text-align: right;\n",
       "    }\n",
       "</style>\n",
       "<table border=\"1\" class=\"dataframe\">\n",
       "  <thead>\n",
       "    <tr style=\"text-align: right;\">\n",
       "      <th></th>\n",
       "      <th>MAL_ID</th>\n",
       "      <th>Name</th>\n",
       "      <th>Score</th>\n",
       "      <th>Genders</th>\n",
       "      <th>English name</th>\n",
       "      <th>Japanese name</th>\n",
       "      <th>Type</th>\n",
       "      <th>Episodes</th>\n",
       "      <th>Aired</th>\n",
       "    </tr>\n",
       "  </thead>\n",
       "  <tbody>\n",
       "    <tr>\n",
       "      <th>11308</th>\n",
       "      <td>32281</td>\n",
       "      <td>Kimi no Na wa.</td>\n",
       "      <td>8.96</td>\n",
       "      <td>Romance, Supernatural, School, Drama</td>\n",
       "      <td>Your Name.</td>\n",
       "      <td>君の名は。</td>\n",
       "      <td>Movie</td>\n",
       "      <td>1</td>\n",
       "      <td>Aug 26, 2016</td>\n",
       "    </tr>\n",
       "  </tbody>\n",
       "</table>\n",
       "</div>"
      ],
      "text/plain": [
       "       MAL_ID            Name Score                               Genders  \\\n",
       "11308   32281  Kimi no Na wa.  8.96  Romance, Supernatural, School, Drama   \n",
       "\n",
       "      English name Japanese name   Type Episodes         Aired  \n",
       "11308   Your Name.         君の名は。  Movie        1  Aug 26, 2016  "
      ]
     },
     "metadata": {},
     "output_type": "display_data"
    },
    {
     "data": {
      "text/html": [
       "<div>\n",
       "<style scoped>\n",
       "    .dataframe tbody tr th:only-of-type {\n",
       "        vertical-align: middle;\n",
       "    }\n",
       "\n",
       "    .dataframe tbody tr th {\n",
       "        vertical-align: top;\n",
       "    }\n",
       "\n",
       "    .dataframe thead th {\n",
       "        text-align: right;\n",
       "    }\n",
       "</style>\n",
       "<table border=\"1\" class=\"dataframe\">\n",
       "  <thead>\n",
       "    <tr style=\"text-align: right;\">\n",
       "      <th></th>\n",
       "      <th>Anime_id</th>\n",
       "      <th>Name</th>\n",
       "      <th>Similarity</th>\n",
       "      <th>Score</th>\n",
       "      <th>Type</th>\n",
       "      <th>Genre</th>\n",
       "    </tr>\n",
       "  </thead>\n",
       "  <tbody>\n",
       "    <tr>\n",
       "      <th>0</th>\n",
       "      <td>28851</td>\n",
       "      <td>Koe no Katachi</td>\n",
       "      <td>0.946266</td>\n",
       "      <td>9.0</td>\n",
       "      <td>Movie</td>\n",
       "      <td>Drama, School, Shounen</td>\n",
       "    </tr>\n",
       "    <tr>\n",
       "      <th>1</th>\n",
       "      <td>23273</td>\n",
       "      <td>Shigatsu wa Kimi no Uso</td>\n",
       "      <td>0.731359</td>\n",
       "      <td>8.74</td>\n",
       "      <td>TV</td>\n",
       "      <td>Drama, Music, Romance, School, Shounen</td>\n",
       "    </tr>\n",
       "    <tr>\n",
       "      <th>2</th>\n",
       "      <td>31043</td>\n",
       "      <td>Boku dake ga Inai Machi</td>\n",
       "      <td>0.689182</td>\n",
       "      <td>8.37</td>\n",
       "      <td>TV</td>\n",
       "      <td>Mystery, Psychological, Supernatural, Seinen</td>\n",
       "    </tr>\n",
       "    <tr>\n",
       "      <th>3</th>\n",
       "      <td>16498</td>\n",
       "      <td>Shingeki no Kyojin</td>\n",
       "      <td>0.673535</td>\n",
       "      <td>8.48</td>\n",
       "      <td>TV</td>\n",
       "      <td>Action, Military, Mystery, Super Power, Drama, Fantasy, Shounen</td>\n",
       "    </tr>\n",
       "    <tr>\n",
       "      <th>4</th>\n",
       "      <td>31240</td>\n",
       "      <td>Re:Zero kara Hajimeru Isekai Seikatsu</td>\n",
       "      <td>0.660373</td>\n",
       "      <td>8.29</td>\n",
       "      <td>TV</td>\n",
       "      <td>Psychological, Drama, Thriller, Fantasy</td>\n",
       "    </tr>\n",
       "    <tr>\n",
       "      <th>5</th>\n",
       "      <td>34240</td>\n",
       "      <td>Shelter</td>\n",
       "      <td>0.645774</td>\n",
       "      <td>8.34</td>\n",
       "      <td>Music</td>\n",
       "      <td>Sci-Fi, Music</td>\n",
       "    </tr>\n",
       "    <tr>\n",
       "      <th>6</th>\n",
       "      <td>9989</td>\n",
       "      <td>Ano Hi Mita Hana no Namae wo Bokutachi wa Mada Shiranai.</td>\n",
       "      <td>0.645192</td>\n",
       "      <td>8.42</td>\n",
       "      <td>TV</td>\n",
       "      <td>Slice of Life, Supernatural, Drama</td>\n",
       "    </tr>\n",
       "    <tr>\n",
       "      <th>7</th>\n",
       "      <td>33486</td>\n",
       "      <td>Boku no Hero Academia 2nd Season</td>\n",
       "      <td>0.638794</td>\n",
       "      <td>8.33</td>\n",
       "      <td>TV</td>\n",
       "      <td>Action, Comedy, Super Power, School, Shounen</td>\n",
       "    </tr>\n",
       "    <tr>\n",
       "      <th>8</th>\n",
       "      <td>25777</td>\n",
       "      <td>Shingeki no Kyojin Season 2</td>\n",
       "      <td>0.634600</td>\n",
       "      <td>8.45</td>\n",
       "      <td>TV</td>\n",
       "      <td>Action, Military, Mystery, Super Power, Drama, Fantasy, Shounen</td>\n",
       "    </tr>\n",
       "    <tr>\n",
       "      <th>9</th>\n",
       "      <td>31964</td>\n",
       "      <td>Boku no Hero Academia</td>\n",
       "      <td>0.627064</td>\n",
       "      <td>8.11</td>\n",
       "      <td>TV</td>\n",
       "      <td>Action, Comedy, School, Shounen, Super Power</td>\n",
       "    </tr>\n",
       "  </tbody>\n",
       "</table>\n",
       "</div>"
      ],
      "text/plain": [
       "   Anime_id                                                      Name  \\\n",
       "0     28851                                            Koe no Katachi   \n",
       "1     23273                                   Shigatsu wa Kimi no Uso   \n",
       "2     31043                                   Boku dake ga Inai Machi   \n",
       "3     16498                                        Shingeki no Kyojin   \n",
       "4     31240                     Re:Zero kara Hajimeru Isekai Seikatsu   \n",
       "5     34240                                                   Shelter   \n",
       "6      9989  Ano Hi Mita Hana no Namae wo Bokutachi wa Mada Shiranai.   \n",
       "7     33486                          Boku no Hero Academia 2nd Season   \n",
       "8     25777                               Shingeki no Kyojin Season 2   \n",
       "9     31964                                     Boku no Hero Academia   \n",
       "\n",
       "   Similarity Score   Type  \\\n",
       "0    0.946266   9.0  Movie   \n",
       "1    0.731359  8.74     TV   \n",
       "2    0.689182  8.37     TV   \n",
       "3    0.673535  8.48     TV   \n",
       "4    0.660373  8.29     TV   \n",
       "5    0.645774  8.34  Music   \n",
       "6    0.645192  8.42     TV   \n",
       "7    0.638794  8.33     TV   \n",
       "8    0.634600  8.45     TV   \n",
       "9    0.627064  8.11     TV   \n",
       "\n",
       "                                                             Genre  \n",
       "0                                           Drama, School, Shounen  \n",
       "1                           Drama, Music, Romance, School, Shounen  \n",
       "2                     Mystery, Psychological, Supernatural, Seinen  \n",
       "3  Action, Military, Mystery, Super Power, Drama, Fantasy, Shounen  \n",
       "4                          Psychological, Drama, Thriller, Fantasy  \n",
       "5                                                    Sci-Fi, Music  \n",
       "6                               Slice of Life, Supernatural, Drama  \n",
       "7                     Action, Comedy, Super Power, School, Shounen  \n",
       "8  Action, Military, Mystery, Super Power, Drama, Fantasy, Shounen  \n",
       "9                     Action, Comedy, School, Shounen, Super Power  "
      ]
     },
     "execution_count": 33,
     "metadata": {},
     "output_type": "execute_result"
    }
   ],
   "source": [
    "get_recommendation('Kimi no Na wa.', 10)"
   ]
  },
  {
   "cell_type": "code",
   "execution_count": 48,
   "metadata": {
    "execution": {
     "iopub.execute_input": "2021-05-21T14:20:55.705417Z",
     "iopub.status.busy": "2021-05-21T14:20:55.705025Z",
     "iopub.status.idle": "2021-05-21T14:20:55.800809Z",
     "shell.execute_reply": "2021-05-21T14:20:55.799352Z",
     "shell.execute_reply.started": "2021-05-21T14:20:55.705385Z"
    }
   },
   "outputs": [
    {
     "name": "stdout",
     "output_type": "stream",
     "text": [
      "Recommending animes for Sword Art Online\n"
     ]
    },
    {
     "data": {
      "text/html": [
       "<div>\n",
       "<style scoped>\n",
       "    .dataframe tbody tr th:only-of-type {\n",
       "        vertical-align: middle;\n",
       "    }\n",
       "\n",
       "    .dataframe tbody tr th {\n",
       "        vertical-align: top;\n",
       "    }\n",
       "\n",
       "    .dataframe thead th {\n",
       "        text-align: right;\n",
       "    }\n",
       "</style>\n",
       "<table border=\"1\" class=\"dataframe\">\n",
       "  <thead>\n",
       "    <tr style=\"text-align: right;\">\n",
       "      <th></th>\n",
       "      <th>MAL_ID</th>\n",
       "      <th>Name</th>\n",
       "      <th>Score</th>\n",
       "      <th>Genders</th>\n",
       "      <th>English name</th>\n",
       "      <th>Japanese name</th>\n",
       "      <th>Type</th>\n",
       "      <th>Episodes</th>\n",
       "      <th>Aired</th>\n",
       "    </tr>\n",
       "  </thead>\n",
       "  <tbody>\n",
       "    <tr>\n",
       "      <th>6614</th>\n",
       "      <td>11757</td>\n",
       "      <td>Sword Art Online</td>\n",
       "      <td>7.25</td>\n",
       "      <td>Action, Game, Adventure, Romance, Fantasy</td>\n",
       "      <td>Sword Art Online</td>\n",
       "      <td>ソードアート・オンライン</td>\n",
       "      <td>TV</td>\n",
       "      <td>25</td>\n",
       "      <td>Jul 8, 2012 to Dec 23, 2012</td>\n",
       "    </tr>\n",
       "  </tbody>\n",
       "</table>\n",
       "</div>"
      ],
      "text/plain": [
       "      MAL_ID              Name Score  \\\n",
       "6614   11757  Sword Art Online  7.25   \n",
       "\n",
       "                                        Genders      English name  \\\n",
       "6614  Action, Game, Adventure, Romance, Fantasy  Sword Art Online   \n",
       "\n",
       "     Japanese name Type Episodes                        Aired  \n",
       "6614  ソードアート・オンライン   TV       25  Jul 8, 2012 to Dec 23, 2012  "
      ]
     },
     "metadata": {},
     "output_type": "display_data"
    },
    {
     "data": {
      "text/html": [
       "<div>\n",
       "<style scoped>\n",
       "    .dataframe tbody tr th:only-of-type {\n",
       "        vertical-align: middle;\n",
       "    }\n",
       "\n",
       "    .dataframe tbody tr th {\n",
       "        vertical-align: top;\n",
       "    }\n",
       "\n",
       "    .dataframe thead th {\n",
       "        text-align: right;\n",
       "    }\n",
       "</style>\n",
       "<table border=\"1\" class=\"dataframe\">\n",
       "  <thead>\n",
       "    <tr style=\"text-align: right;\">\n",
       "      <th></th>\n",
       "      <th>Anime_id</th>\n",
       "      <th>Name</th>\n",
       "      <th>Similarity</th>\n",
       "      <th>Score</th>\n",
       "      <th>Type</th>\n",
       "      <th>Genre</th>\n",
       "    </tr>\n",
       "  </thead>\n",
       "  <tbody>\n",
       "    <tr>\n",
       "      <th>0</th>\n",
       "      <td>21881</td>\n",
       "      <td>Sword Art Online II</td>\n",
       "      <td>0.856271</td>\n",
       "      <td>6.79</td>\n",
       "      <td>TV</td>\n",
       "      <td>Action, Game, Adventure, Romance, Fantasy</td>\n",
       "    </tr>\n",
       "    <tr>\n",
       "      <th>1</th>\n",
       "      <td>19815</td>\n",
       "      <td>No Game No Life</td>\n",
       "      <td>0.764166</td>\n",
       "      <td>8.2</td>\n",
       "      <td>TV</td>\n",
       "      <td>Game, Adventure, Comedy, Supernatural, Ecchi, Fantasy</td>\n",
       "    </tr>\n",
       "    <tr>\n",
       "      <th>2</th>\n",
       "      <td>16498</td>\n",
       "      <td>Shingeki no Kyojin</td>\n",
       "      <td>0.717274</td>\n",
       "      <td>8.48</td>\n",
       "      <td>TV</td>\n",
       "      <td>Action, Military, Mystery, Super Power, Drama, Fantasy, Shounen</td>\n",
       "    </tr>\n",
       "    <tr>\n",
       "      <th>3</th>\n",
       "      <td>22319</td>\n",
       "      <td>Tokyo Ghoul</td>\n",
       "      <td>0.691462</td>\n",
       "      <td>7.81</td>\n",
       "      <td>TV</td>\n",
       "      <td>Action, Mystery, Horror, Psychological, Supernatural, Drama, Seinen</td>\n",
       "    </tr>\n",
       "    <tr>\n",
       "      <th>4</th>\n",
       "      <td>28121</td>\n",
       "      <td>Dungeon ni Deai wo Motomeru no wa Machigatteiru Darou ka</td>\n",
       "      <td>0.688285</td>\n",
       "      <td>7.64</td>\n",
       "      <td>TV</td>\n",
       "      <td>Action, Adventure, Comedy, Romance, Fantasy</td>\n",
       "    </tr>\n",
       "    <tr>\n",
       "      <th>5</th>\n",
       "      <td>22199</td>\n",
       "      <td>Akame ga Kill!</td>\n",
       "      <td>0.668604</td>\n",
       "      <td>7.53</td>\n",
       "      <td>TV</td>\n",
       "      <td>Action, Adventure, Drama, Fantasy, Shounen</td>\n",
       "    </tr>\n",
       "    <tr>\n",
       "      <th>6</th>\n",
       "      <td>20021</td>\n",
       "      <td>Sword Art Online: Extra Edition</td>\n",
       "      <td>0.667963</td>\n",
       "      <td>6.61</td>\n",
       "      <td>Special</td>\n",
       "      <td>Action, Adventure, Fantasy, Game, Romance</td>\n",
       "    </tr>\n",
       "    <tr>\n",
       "      <th>7</th>\n",
       "      <td>10620</td>\n",
       "      <td>Mirai Nikki</td>\n",
       "      <td>0.639832</td>\n",
       "      <td>7.54</td>\n",
       "      <td>TV</td>\n",
       "      <td>Action, Mystery, Psychological, Shounen, Supernatural, Thriller</td>\n",
       "    </tr>\n",
       "    <tr>\n",
       "      <th>8</th>\n",
       "      <td>11617</td>\n",
       "      <td>High School DxD</td>\n",
       "      <td>0.635851</td>\n",
       "      <td>7.4</td>\n",
       "      <td>TV</td>\n",
       "      <td>Comedy, Demons, Ecchi, Harem, Romance, School</td>\n",
       "    </tr>\n",
       "    <tr>\n",
       "      <th>9</th>\n",
       "      <td>6547</td>\n",
       "      <td>Angel Beats!</td>\n",
       "      <td>0.632495</td>\n",
       "      <td>8.15</td>\n",
       "      <td>TV</td>\n",
       "      <td>Action, Comedy, Drama, School, Supernatural</td>\n",
       "    </tr>\n",
       "  </tbody>\n",
       "</table>\n",
       "</div>"
      ],
      "text/plain": [
       "   Anime_id                                                      Name  \\\n",
       "0     21881                                       Sword Art Online II   \n",
       "1     19815                                           No Game No Life   \n",
       "2     16498                                        Shingeki no Kyojin   \n",
       "3     22319                                               Tokyo Ghoul   \n",
       "4     28121  Dungeon ni Deai wo Motomeru no wa Machigatteiru Darou ka   \n",
       "5     22199                                            Akame ga Kill!   \n",
       "6     20021                           Sword Art Online: Extra Edition   \n",
       "7     10620                                               Mirai Nikki   \n",
       "8     11617                                           High School DxD   \n",
       "9      6547                                              Angel Beats!   \n",
       "\n",
       "   Similarity Score     Type  \\\n",
       "0    0.856271  6.79       TV   \n",
       "1    0.764166   8.2       TV   \n",
       "2    0.717274  8.48       TV   \n",
       "3    0.691462  7.81       TV   \n",
       "4    0.688285  7.64       TV   \n",
       "5    0.668604  7.53       TV   \n",
       "6    0.667963  6.61  Special   \n",
       "7    0.639832  7.54       TV   \n",
       "8    0.635851   7.4       TV   \n",
       "9    0.632495  8.15       TV   \n",
       "\n",
       "                                                                 Genre  \n",
       "0                            Action, Game, Adventure, Romance, Fantasy  \n",
       "1                Game, Adventure, Comedy, Supernatural, Ecchi, Fantasy  \n",
       "2      Action, Military, Mystery, Super Power, Drama, Fantasy, Shounen  \n",
       "3  Action, Mystery, Horror, Psychological, Supernatural, Drama, Seinen  \n",
       "4                          Action, Adventure, Comedy, Romance, Fantasy  \n",
       "5                           Action, Adventure, Drama, Fantasy, Shounen  \n",
       "6                            Action, Adventure, Fantasy, Game, Romance  \n",
       "7      Action, Mystery, Psychological, Shounen, Supernatural, Thriller  \n",
       "8                        Comedy, Demons, Ecchi, Harem, Romance, School  \n",
       "9                          Action, Comedy, Drama, School, Supernatural  "
      ]
     },
     "execution_count": 48,
     "metadata": {},
     "output_type": "execute_result"
    }
   ],
   "source": [
    "get_recommendation('Sword Art Online', 10)"
   ]
  },
  {
   "cell_type": "code",
   "execution_count": 205,
   "metadata": {
    "execution": {
     "iopub.execute_input": "2021-05-21T09:01:13.485382Z",
     "iopub.status.busy": "2021-05-21T09:01:13.484947Z",
     "iopub.status.idle": "2021-05-21T09:01:13.591960Z",
     "shell.execute_reply": "2021-05-21T09:01:13.590113Z",
     "shell.execute_reply.started": "2021-05-21T09:01:13.485346Z"
    }
   },
   "outputs": [
    {
     "name": "stdout",
     "output_type": "stream",
     "text": [
      "Recommending animes for Black Clover\n"
     ]
    },
    {
     "data": {
      "text/html": [
       "<div>\n",
       "<style scoped>\n",
       "    .dataframe tbody tr th:only-of-type {\n",
       "        vertical-align: middle;\n",
       "    }\n",
       "\n",
       "    .dataframe tbody tr th {\n",
       "        vertical-align: top;\n",
       "    }\n",
       "\n",
       "    .dataframe thead th {\n",
       "        text-align: right;\n",
       "    }\n",
       "</style>\n",
       "<table border=\"1\" class=\"dataframe\">\n",
       "  <thead>\n",
       "    <tr style=\"text-align: right;\">\n",
       "      <th></th>\n",
       "      <th>MAL_ID</th>\n",
       "      <th>Name</th>\n",
       "      <th>Score</th>\n",
       "      <th>Genders</th>\n",
       "      <th>English name</th>\n",
       "      <th>Japanese name</th>\n",
       "      <th>Type</th>\n",
       "      <th>Episodes</th>\n",
       "      <th>Aired</th>\n",
       "    </tr>\n",
       "  </thead>\n",
       "  <tbody>\n",
       "    <tr>\n",
       "      <th>12493</th>\n",
       "      <td>34572</td>\n",
       "      <td>Black Clover</td>\n",
       "      <td>7.38</td>\n",
       "      <td>Action, Comedy, Magic, Fantasy, Shounen</td>\n",
       "      <td>Black Clover</td>\n",
       "      <td>ブラッククローバー</td>\n",
       "      <td>TV</td>\n",
       "      <td>170</td>\n",
       "      <td>Oct 3, 2017 to Mar 30, 2021</td>\n",
       "    </tr>\n",
       "  </tbody>\n",
       "</table>\n",
       "</div>"
      ],
      "text/plain": [
       "       MAL_ID          Name Score                                  Genders  \\\n",
       "12493   34572  Black Clover  7.38  Action, Comedy, Magic, Fantasy, Shounen   \n",
       "\n",
       "       English name Japanese name Type Episodes                        Aired  \n",
       "12493  Black Clover     ブラッククローバー   TV      170  Oct 3, 2017 to Mar 30, 2021  "
      ]
     },
     "metadata": {},
     "output_type": "display_data"
    },
    {
     "data": {
      "text/html": [
       "<div>\n",
       "<style scoped>\n",
       "    .dataframe tbody tr th:only-of-type {\n",
       "        vertical-align: middle;\n",
       "    }\n",
       "\n",
       "    .dataframe tbody tr th {\n",
       "        vertical-align: top;\n",
       "    }\n",
       "\n",
       "    .dataframe thead th {\n",
       "        text-align: right;\n",
       "    }\n",
       "</style>\n",
       "<table border=\"1\" class=\"dataframe\">\n",
       "  <thead>\n",
       "    <tr style=\"text-align: right;\">\n",
       "      <th></th>\n",
       "      <th>Anime_id</th>\n",
       "      <th>Name</th>\n",
       "      <th>Similarity</th>\n",
       "      <th>Score</th>\n",
       "      <th>Type</th>\n",
       "      <th>Genre</th>\n",
       "    </tr>\n",
       "  </thead>\n",
       "  <tbody>\n",
       "    <tr>\n",
       "      <th>0</th>\n",
       "      <td>34566</td>\n",
       "      <td>Boruto: Naruto Next Generations</td>\n",
       "      <td>0.696372</td>\n",
       "      <td>5.81</td>\n",
       "      <td>TV</td>\n",
       "      <td>Action, Adventure, Super Power, Martial Arts, Shounen</td>\n",
       "    </tr>\n",
       "    <tr>\n",
       "      <th>1</th>\n",
       "      <td>40748</td>\n",
       "      <td>Jujutsu Kaisen (TV)</td>\n",
       "      <td>0.588791</td>\n",
       "      <td>8.54</td>\n",
       "      <td>TV</td>\n",
       "      <td>Action, Demons, Supernatural, School, Shounen</td>\n",
       "    </tr>\n",
       "    <tr>\n",
       "      <th>2</th>\n",
       "      <td>37885</td>\n",
       "      <td>Super Dragon Ball Heroes</td>\n",
       "      <td>0.542996</td>\n",
       "      <td>5.29</td>\n",
       "      <td>ONA</td>\n",
       "      <td>Action, Comedy, Super Power, Martial Arts, Fantasy, Shounen</td>\n",
       "    </tr>\n",
       "    <tr>\n",
       "      <th>3</th>\n",
       "      <td>41074</td>\n",
       "      <td>Digimon Adventure:</td>\n",
       "      <td>0.509338</td>\n",
       "      <td>6.77</td>\n",
       "      <td>TV</td>\n",
       "      <td>Action, Adventure, Comedy, Fantasy, Kids</td>\n",
       "    </tr>\n",
       "    <tr>\n",
       "      <th>4</th>\n",
       "      <td>32772</td>\n",
       "      <td>Puzzle &amp; Dragons Cross</td>\n",
       "      <td>0.482487</td>\n",
       "      <td>6.48</td>\n",
       "      <td>TV</td>\n",
       "      <td>Game, Kids</td>\n",
       "    </tr>\n",
       "    <tr>\n",
       "      <th>5</th>\n",
       "      <td>36934</td>\n",
       "      <td>Captain Tsubasa (2018)</td>\n",
       "      <td>0.460898</td>\n",
       "      <td>7.42</td>\n",
       "      <td>TV</td>\n",
       "      <td>Action, Sports, Shounen</td>\n",
       "    </tr>\n",
       "    <tr>\n",
       "      <th>6</th>\n",
       "      <td>36516</td>\n",
       "      <td>Beatless</td>\n",
       "      <td>0.460792</td>\n",
       "      <td>6.2</td>\n",
       "      <td>TV</td>\n",
       "      <td>Action, Drama, Romance, Sci-Fi</td>\n",
       "    </tr>\n",
       "    <tr>\n",
       "      <th>7</th>\n",
       "      <td>37202</td>\n",
       "      <td>Radiant</td>\n",
       "      <td>0.455345</td>\n",
       "      <td>6.87</td>\n",
       "      <td>TV</td>\n",
       "      <td>Action, Adventure, Fantasy, Magic</td>\n",
       "    </tr>\n",
       "    <tr>\n",
       "      <th>8</th>\n",
       "      <td>37447</td>\n",
       "      <td>Karakuri Circus (TV)</td>\n",
       "      <td>0.451193</td>\n",
       "      <td>7.09</td>\n",
       "      <td>TV</td>\n",
       "      <td>Action, Adventure, Mystery, Drama, Shounen</td>\n",
       "    </tr>\n",
       "    <tr>\n",
       "      <th>9</th>\n",
       "      <td>37430</td>\n",
       "      <td>Tensei shitara Slime Datta Ken</td>\n",
       "      <td>0.450611</td>\n",
       "      <td>8.07</td>\n",
       "      <td>TV</td>\n",
       "      <td>Fantasy, Shounen</td>\n",
       "    </tr>\n",
       "  </tbody>\n",
       "</table>\n",
       "</div>"
      ],
      "text/plain": [
       "   Anime_id                             Name  Similarity Score Type  \\\n",
       "0     34566  Boruto: Naruto Next Generations    0.696372  5.81   TV   \n",
       "1     40748              Jujutsu Kaisen (TV)    0.588791  8.54   TV   \n",
       "2     37885         Super Dragon Ball Heroes    0.542996  5.29  ONA   \n",
       "3     41074               Digimon Adventure:    0.509338  6.77   TV   \n",
       "4     32772           Puzzle & Dragons Cross    0.482487  6.48   TV   \n",
       "5     36934           Captain Tsubasa (2018)    0.460898  7.42   TV   \n",
       "6     36516                         Beatless    0.460792   6.2   TV   \n",
       "7     37202                          Radiant    0.455345  6.87   TV   \n",
       "8     37447             Karakuri Circus (TV)    0.451193  7.09   TV   \n",
       "9     37430   Tensei shitara Slime Datta Ken    0.450611  8.07   TV   \n",
       "\n",
       "                                                         Genre  \n",
       "0        Action, Adventure, Super Power, Martial Arts, Shounen  \n",
       "1                Action, Demons, Supernatural, School, Shounen  \n",
       "2  Action, Comedy, Super Power, Martial Arts, Fantasy, Shounen  \n",
       "3                     Action, Adventure, Comedy, Fantasy, Kids  \n",
       "4                                                   Game, Kids  \n",
       "5                                      Action, Sports, Shounen  \n",
       "6                               Action, Drama, Romance, Sci-Fi  \n",
       "7                            Action, Adventure, Fantasy, Magic  \n",
       "8                   Action, Adventure, Mystery, Drama, Shounen  \n",
       "9                                             Fantasy, Shounen  "
      ]
     },
     "execution_count": 205,
     "metadata": {},
     "output_type": "execute_result"
    }
   ],
   "source": [
    "get_recommendation('Black Clover', 10)"
   ]
  },
  {
   "cell_type": "markdown",
   "metadata": {},
   "source": [
    "# Finding Similar Users"
   ]
  },
  {
   "cell_type": "code",
   "execution_count": 238,
   "metadata": {
    "execution": {
     "iopub.execute_input": "2021-05-21T09:16:20.040180Z",
     "iopub.status.busy": "2021-05-21T09:16:20.039804Z",
     "iopub.status.idle": "2021-05-21T09:16:30.644058Z",
     "shell.execute_reply": "2021-05-21T09:16:30.642858Z",
     "shell.execute_reply.started": "2021-05-21T09:16:20.040150Z"
    }
   },
   "outputs": [
    {
     "name": "stdout",
     "output_type": "stream",
     "text": [
      "[INFO] Selecting random user\n",
      "Selected user_id: 64234\n"
     ]
    }
   ],
   "source": [
    "import random\n",
    "print('[INFO] Selecting random user')\n",
    "ratings_per_user = df['user_id'].value_counts()\n",
    "random_user = int(random.choice(ratings_per_user[ratings_per_user < 300].index))\n",
    "print(f'Selected user_id: {random_user}')"
   ]
  },
  {
   "cell_type": "code",
   "execution_count": 232,
   "metadata": {
    "execution": {
     "iopub.execute_input": "2021-05-21T09:15:31.245125Z",
     "iopub.status.busy": "2021-05-21T09:15:31.244731Z",
     "iopub.status.idle": "2021-05-21T09:15:31.254497Z",
     "shell.execute_reply": "2021-05-21T09:15:31.252902Z",
     "shell.execute_reply.started": "2021-05-21T09:15:31.245092Z"
    }
   },
   "outputs": [],
   "source": [
    "#pd.reset_option('all')\n",
    "pd.set_option(\"max_colwidth\", None)\n",
    "\n",
    "def find_similar_users(user_query, n=10):\n",
    "    assert isinstance(user_query, int)\n",
    "    user_idx = user_id_to_idx.get(user_query)\n",
    "    if not user_idx:\n",
    "        raise Exception(f'{user_query}!, Not Found in User list')\n",
    "    weights = user_weights\n",
    "    distances = np.dot(weights, weights[user_idx])\n",
    "\n",
    "    sorted_dists_ind = np.argsort(distances)[::-1]\n",
    "\n",
    "    print(f'Users similar to user_id: {user_query}')\n",
    "\n",
    "    user_list = []\n",
    "    for idx in sorted_dists_ind[1: n+1]:\n",
    "        similarity = distances[idx]\n",
    "        user_id = user_idx_to_id.get(idx)\n",
    "        user_list.append({\"similar_users\": user_id,\n",
    "                              \"similarity\": similarity})\n",
    "\n",
    "    user_df = pd.DataFrame(user_list)\n",
    "\n",
    "    return user_df"
   ]
  },
  {
   "cell_type": "code",
   "execution_count": 219,
   "metadata": {
    "execution": {
     "iopub.execute_input": "2021-05-21T09:12:48.060522Z",
     "iopub.status.busy": "2021-05-21T09:12:48.059940Z",
     "iopub.status.idle": "2021-05-21T09:12:48.071526Z",
     "shell.execute_reply": "2021-05-21T09:12:48.070252Z",
     "shell.execute_reply.started": "2021-05-21T09:12:48.060486Z"
    }
   },
   "outputs": [
    {
     "data": {
      "text/html": [
       "<div>\n",
       "<style scoped>\n",
       "    .dataframe tbody tr th:only-of-type {\n",
       "        vertical-align: middle;\n",
       "    }\n",
       "\n",
       "    .dataframe tbody tr th {\n",
       "        vertical-align: top;\n",
       "    }\n",
       "\n",
       "    .dataframe thead th {\n",
       "        text-align: right;\n",
       "    }\n",
       "</style>\n",
       "<table border=\"1\" class=\"dataframe\">\n",
       "  <thead>\n",
       "    <tr style=\"text-align: right;\">\n",
       "      <th></th>\n",
       "      <th>user_id</th>\n",
       "      <th>anime_id</th>\n",
       "      <th>rating</th>\n",
       "    </tr>\n",
       "  </thead>\n",
       "  <tbody>\n",
       "    <tr>\n",
       "      <th>80641348</th>\n",
       "      <td>130299</td>\n",
       "      <td>1715</td>\n",
       "      <td>8</td>\n",
       "    </tr>\n",
       "    <tr>\n",
       "      <th>43270833</th>\n",
       "      <td>69959</td>\n",
       "      <td>780</td>\n",
       "      <td>0</td>\n",
       "    </tr>\n",
       "    <tr>\n",
       "      <th>46427491</th>\n",
       "      <td>75055</td>\n",
       "      <td>896</td>\n",
       "      <td>0</td>\n",
       "    </tr>\n",
       "    <tr>\n",
       "      <th>40882136</th>\n",
       "      <td>66071</td>\n",
       "      <td>3209</td>\n",
       "      <td>5</td>\n",
       "    </tr>\n",
       "    <tr>\n",
       "      <th>83820096</th>\n",
       "      <td>135389</td>\n",
       "      <td>6415</td>\n",
       "      <td>7</td>\n",
       "    </tr>\n",
       "  </tbody>\n",
       "</table>\n",
       "</div>"
      ],
      "text/plain": [
       "          user_id  anime_id  rating\n",
       "80641348   130299      1715       8\n",
       "43270833    69959       780       0\n",
       "46427491    75055       896       0\n",
       "40882136    66071      3209       5\n",
       "83820096   135389      6415       7"
      ]
     },
     "execution_count": 219,
     "metadata": {},
     "output_type": "execute_result"
    }
   ],
   "source": [
    "df.head()"
   ]
  },
  {
   "cell_type": "code",
   "execution_count": 241,
   "metadata": {
    "execution": {
     "iopub.execute_input": "2021-05-21T09:16:41.482260Z",
     "iopub.status.busy": "2021-05-21T09:16:41.481723Z",
     "iopub.status.idle": "2021-05-21T09:16:41.533408Z",
     "shell.execute_reply": "2021-05-21T09:16:41.532112Z",
     "shell.execute_reply.started": "2021-05-21T09:16:41.482226Z"
    }
   },
   "outputs": [
    {
     "name": "stdout",
     "output_type": "stream",
     "text": [
      "Users similar to user_id: 64234\n"
     ]
    },
    {
     "data": {
      "text/html": [
       "<div>\n",
       "<style scoped>\n",
       "    .dataframe tbody tr th:only-of-type {\n",
       "        vertical-align: middle;\n",
       "    }\n",
       "\n",
       "    .dataframe tbody tr th {\n",
       "        vertical-align: top;\n",
       "    }\n",
       "\n",
       "    .dataframe thead th {\n",
       "        text-align: right;\n",
       "    }\n",
       "</style>\n",
       "<table border=\"1\" class=\"dataframe\">\n",
       "  <thead>\n",
       "    <tr style=\"text-align: right;\">\n",
       "      <th></th>\n",
       "      <th>similar_users</th>\n",
       "      <th>similarity</th>\n",
       "    </tr>\n",
       "  </thead>\n",
       "  <tbody>\n",
       "    <tr>\n",
       "      <th>0</th>\n",
       "      <td>40961</td>\n",
       "      <td>0.532992</td>\n",
       "    </tr>\n",
       "    <tr>\n",
       "      <th>1</th>\n",
       "      <td>31780</td>\n",
       "      <td>0.505028</td>\n",
       "    </tr>\n",
       "    <tr>\n",
       "      <th>2</th>\n",
       "      <td>184294</td>\n",
       "      <td>0.493386</td>\n",
       "    </tr>\n",
       "    <tr>\n",
       "      <th>3</th>\n",
       "      <td>281850</td>\n",
       "      <td>0.491472</td>\n",
       "    </tr>\n",
       "    <tr>\n",
       "      <th>4</th>\n",
       "      <td>95169</td>\n",
       "      <td>0.487374</td>\n",
       "    </tr>\n",
       "  </tbody>\n",
       "</table>\n",
       "</div>"
      ],
      "text/plain": [
       "   similar_users  similarity\n",
       "0          40961    0.532992\n",
       "1          31780    0.505028\n",
       "2         184294    0.493386\n",
       "3         281850    0.491472\n",
       "4          95169    0.487374"
      ]
     },
     "execution_count": 241,
     "metadata": {},
     "output_type": "execute_result"
    }
   ],
   "source": [
    "similar_users = find_similar_users(random_user, n=5)\n",
    "similar_users"
   ]
  },
  {
   "cell_type": "markdown",
   "metadata": {},
   "source": [
    "# **User preferences**"
   ]
  },
  {
   "cell_type": "code",
   "execution_count": null,
   "metadata": {
    "execution": {
     "iopub.status.busy": "2021-05-21T05:40:20.447950Z",
     "iopub.status.idle": "2021-05-21T05:40:20.448938Z"
    }
   },
   "outputs": [],
   "source": [
    "# from wordcloud import WordCloud\n",
    "# from collections import defaultdict   \n",
    "\n",
    "# def getFavGenre(frame):\n",
    "#         frame.dropna(inplace=False)\n",
    "#         all_genres = defaultdict(int)\n",
    "        \n",
    "#         for genres in frame['Genders']:\n",
    "#             for genre in genres.split(','):\n",
    "#                 all_genres[genre.strip()] += 1\n",
    "        \n",
    "#         from wordcloud import WordCloud\n",
    "#         import matplotlib.pyplot as plt\n",
    "\n",
    "#         genres_cloud = WordCloud(width=700, height=400, background_color='white', colormap='gnuplot').generate_from_frequencies(all_genres)\n",
    "#         plt.figure(figsize=(10,8)) \n",
    "#         plt.imshow(genres_cloud, interpolation='bilinear')\n",
    "#         plt.axis('off')\n",
    "#         plt.show()\n",
    "\n",
    "# def get_user_preferences(user_id, n=5, plot=False):\n",
    "#     animes_watched_by_user = [d.user_id=user_id]\n",
    "#     highly_rated_by_user = animes_watched_by_user[animes_watched_by_user.rating >= 0.75]\n",
    "#     top_animes_user = (\n",
    "#         highly_rated_by_user.sort_values(by=\"rating\", ascending=False)\n",
    "#         .anime_id.values#[0:n]\n",
    "#     )\n",
    "#     anime_df_rows = anime_df[anime_df[\"MAL_ID\"].isin(top_animes_user)]\n",
    "#     anime_df_rows = anime_df_rows[[\"Name\", \"Genders\"]]\n",
    "#     print(\"> User #{} has rated {} animes (avg. rating = {:.1f})\".format(\n",
    "#         user_id, len(animes_watched_by_user), animes_watched_by_user['rating'].mean(),\n",
    "#     ))\n",
    "#     print('> preferred genres')\n",
    "#     if plot:\n",
    "#         getFavGenre(anime_df_rows)        \n",
    "#     return anime_df_rows.eng_version.values"
   ]
  },
  {
   "cell_type": "code",
   "execution_count": null,
   "metadata": {
    "execution": {
     "iopub.status.busy": "2021-05-21T05:40:20.450456Z",
     "iopub.status.idle": "2021-05-21T05:40:20.451401Z"
    }
   },
   "outputs": [],
   "source": [
    "# user_pref = get_user_preferences(random_user, n=5, plot=True)\n",
    "# print('> animes highly rated by this user')\n",
    "# pd.DataFrame(user_pref).head(5)"
   ]
  },
  {
   "cell_type": "markdown",
   "metadata": {},
   "source": [
    "# **Task 3**: **Recommending** animes for a user"
   ]
  },
  {
   "cell_type": "code",
   "execution_count": null,
   "metadata": {
    "execution": {
     "iopub.status.busy": "2021-05-21T05:40:20.452909Z",
     "iopub.status.idle": "2021-05-21T05:40:20.453860Z"
    }
   },
   "outputs": [],
   "source": [
    "# def get_recommended_animes(similar_users):\n",
    "#     recommended_animes = []\n",
    "#     for user_id in similar_users.similar_users.values:\n",
    "#         pref_list = get_user_preferences(int(user_id), n=5)\n",
    "#         for pref in pref_list:\n",
    "#             if pref not in user_pref:\n",
    "#                 try:\n",
    "#                     frame = getAnimeFrame(pref)\n",
    "#                     anime_id = frame.anime_id.values[0]\n",
    "#                     genre = frame.Genders.values[0]\n",
    "#                     sypnopsis = getSypnopsis(int(anime_id))\n",
    "#                     recommended_animes.append({\"anime_id\": anime_id ,\"anime_name\": pref, \n",
    "#                                                \"Genders\": genre, 'sypnopsis': sypnopsis})\n",
    "#                 except:\n",
    "#                     pass\n",
    "    \n",
    "#     return pd.DataFrame(recommended_animes)"
   ]
  },
  {
   "cell_type": "code",
   "execution_count": null,
   "metadata": {
    "execution": {
     "iopub.status.busy": "2021-05-21T05:40:20.455482Z",
     "iopub.status.idle": "2021-05-21T05:40:20.456489Z"
    }
   },
   "outputs": [],
   "source": [
    "# recommended_animes = get_recommended_animes(similar_users)\n",
    "# getFavGenre(recommended_animes)\n",
    "# print('\\n> Top recommendations for user: {}'.format(random_user))\n",
    "# recommended_animes.head(10)"
   ]
  },
  {
   "cell_type": "code",
   "execution_count": 37,
   "metadata": {
    "execution": {
     "iopub.execute_input": "2021-05-21T14:14:28.034542Z",
     "iopub.status.busy": "2021-05-21T14:14:28.034144Z",
     "iopub.status.idle": "2021-05-21T14:14:28.342296Z",
     "shell.execute_reply": "2021-05-21T14:14:28.341288Z",
     "shell.execute_reply.started": "2021-05-21T14:14:28.034506Z"
    }
   },
   "outputs": [],
   "source": [
    "if FUNCTIONAL_MODEL:\n",
    "    model.save('anime_model.h5')\n",
    "    from IPython.display import FileLink\n",
    "    FileLink(r'./anime_model.h5')\n",
    "else:\n",
    "    model.save_weights('anime_model', save_format=\"h5\")"
   ]
  },
  {
   "cell_type": "code",
   "execution_count": null,
   "metadata": {},
   "outputs": [],
   "source": []
  }
 ],
 "metadata": {
  "kernelspec": {
   "name": "python3",
   "display_name": "Python 3.8.8 64-bit ('base': conda)"
  },
  "language_info": {
   "codemirror_mode": {
    "name": "ipython",
    "version": 3
   },
   "file_extension": ".py",
   "mimetype": "text/x-python",
   "name": "python",
   "nbconvert_exporter": "python",
   "pygments_lexer": "ipython3",
   "version": "3.8.10"
  },
  "interpreter": {
   "hash": "6d46af94c2bbce495f1e668725902fa517c90b1782bcfe2fce0dd9868df553d3"
  }
 },
 "nbformat": 4,
 "nbformat_minor": 4
}